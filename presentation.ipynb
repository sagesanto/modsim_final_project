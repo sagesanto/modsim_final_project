{
 "cells": [
  {
   "cell_type": "code",
   "execution_count": null,
   "metadata": {},
   "outputs": [],
   "source": [
    "import sys, os\n",
    "from os.path import join, dirname, abspath\n",
    "import matplotlib.pyplot as plt\n",
    "from matplotlib.pyplot import Figure, Axes\n",
    "import numpy as np\n",
    "import networkx as nx\n",
    "import matplotlib.animation as animation\n",
    "from mpl_toolkits.axes_grid1 import make_axes_locatable\n",
    "from directions import *\n",
    "from string import ascii_uppercase\n",
    "plt.rcParams.update({\n",
    "    \"text.usetex\": False,\n",
    "    \"ytick.minor.visible\":True,\n",
    "    \"xtick.minor.visible\":True,\n",
    "    'xtick.direction': \"in\",\n",
    "    'ytick.direction': \"in\"\n",
    "})\n",
    "outdir = \"presentation\"\n",
    "os.makedirs(outdir,exist_ok=True)\n",
    "def out(fname): return join(outdir,fname)\n",
    "def savefig(plot_name): \n",
    "    plt.savefig(out(plot_name),bbox_inches=\"tight\",dpi=250)\n",
    "    \n",
    "import pandas as pd\n",
    "from numpy.linalg import matrix_power, eig\n",
    "\n",
    "def arr_to_latex(M):\n",
    "    return '$$\\n' + r'\\begin{bmatrix}' + '\\n' + (r'\\\\' + '\\n').join('&'.join(str(round(x,3)) for x in row) for row in M) + '\\n' + r'\\end{bmatrix}' + '\\n' +'$$'\n",
    "\n",
    "def vec_to_latex(x,round=3):\n",
    "    return '$$\\n' + r'\\begin{bmatrix}' + '\\n' + (r' \\\\ ').join(str(np.round(v,round)) for v in x) + '\\n' + r'\\end{bmatrix}' + '\\n' +'$$'\n",
    "\n",
    "from car import Car\n",
    "from tiles import Road, Exit, Onramp\n",
    "from world import World\n",
    "from traffic_signals import Stoplight"
   ]
  },
  {
   "cell_type": "code",
   "execution_count": null,
   "metadata": {},
   "outputs": [],
   "source": [
    "roads = [Road(0,0,(N+S+E+W)/4),\n",
    "            Road(1,0,(N+S+E+W)/4),\n",
    "            Road(2,0,(N+S+E+W)/4),\n",
    "            Road(1,1,(N+S+E+W)/4),\n",
    "            Road(2,1,(N+S+E+W)/4)]\n",
    "w = World(roads, cars=[])\n",
    "w.draw(live_connections=True)"
   ]
  },
  {
   "cell_type": "code",
   "execution_count": null,
   "metadata": {},
   "outputs": [],
   "source": []
  },
  {
   "cell_type": "code",
   "execution_count": null,
   "metadata": {},
   "outputs": [],
   "source": []
  },
  {
   "cell_type": "code",
   "execution_count": null,
   "metadata": {},
   "outputs": [],
   "source": [
    "print(arr_to_latex(w.markov.T))"
   ]
  },
  {
   "cell_type": "code",
   "execution_count": null,
   "metadata": {},
   "outputs": [],
   "source": [
    "straight_road = [Onramp(0,0,N)]\n",
    "for i in range(8):\n",
    "    straight_road.append(Road(0,i+1,N))\n",
    "straight_road.append(Exit(0,9,N))\n",
    "\n",
    "w = World(straight_road,cars=[])\n",
    "w.add_stoplight(Stoplight(straight_road[5],4))\n",
    "w.draw(markersize=10,show=False)\n",
    "savefig(\"straight_blank.png\")\n",
    "w.run(100,draw=True,outpath=out(\"straight.gif\"),markersize=10)"
   ]
  },
  {
   "cell_type": "code",
   "execution_count": null,
   "metadata": {},
   "outputs": [],
   "source": [
    "fig,ax = plt.subplots()\n",
    "w.draw(markersize=10,ax=ax,show=False)\n",
    "savefig(\"straight_full.png\")"
   ]
  },
  {
   "cell_type": "code",
   "execution_count": null,
   "metadata": {},
   "outputs": [],
   "source": [
    "fig,ax = plt.subplots()\n",
    "o = Onramp(0,0,N)\n",
    "o.color = \"tab:blue\"\n",
    "o.plot(ax=ax,markersize=10)\n",
    "savefig(\"onramp.png\")"
   ]
  },
  {
   "cell_type": "code",
   "execution_count": null,
   "metadata": {},
   "outputs": [],
   "source": [
    "fig,ax = plt.subplots()\n",
    "o = Exit(0,0,N)\n",
    "o.color = \"tab:blue\"\n",
    "o.plot(ax=ax,markersize=10)\n",
    "savefig(\"exit.png\")"
   ]
  },
  {
   "cell_type": "code",
   "execution_count": null,
   "metadata": {},
   "outputs": [],
   "source": [
    "intersection_tiles = []\n",
    "\n",
    "MAIN_X = 1\n",
    "\n",
    "intersection_tiles.append(Onramp(MAIN_X,0,NORTH))\n",
    "intersection_tiles.append(Road(MAIN_X,1,NORTH))\n",
    "inter = Road(MAIN_X,2,(NORTH+EAST+WEST)/3)\n",
    "intersection_tiles.append(inter)\n",
    "\n",
    "intersection_tiles.append(Road(MAIN_X+1,2,NORTH))\n",
    "intersection_tiles.append(Road(MAIN_X+1,3,NORTH))\n",
    "intersection_tiles.append(Road(MAIN_X+1,4,NORTH))\n",
    "intersection_tiles.append(Road(MAIN_X+1,5,NORTH))\n",
    "intersection_tiles.append(Exit(MAIN_X+1,6,NORTH))\n",
    "\n",
    "intersection_tiles.append(Road(MAIN_X-1,2,NORTH))\n",
    "intersection_tiles.append(Road(MAIN_X-1,3,NORTH))\n",
    "intersection_tiles.append(Road(MAIN_X-1,4,NORTH))\n",
    "intersection_tiles.append(Road(MAIN_X-1,5,NORTH))\n",
    "intersection_tiles.append(Exit(MAIN_X-1,6,NORTH))\n",
    "\n",
    "\n",
    "\n",
    "intersection = World(tiles=intersection_tiles,cars=[])\n",
    "intersection.draw(markersize=10)\n"
   ]
  },
  {
   "cell_type": "code",
   "execution_count": null,
   "metadata": {},
   "outputs": [],
   "source": [
    "intersection.add_stoplight(Stoplight(inter,4))\n",
    "# w.draw(markersize=10,show=False)\n",
    "# savefig(\"straight_blank.png\")\n",
    "intersection.run(100,draw=True,outpath=out(\"intersection.gif\"),markersize=10)"
   ]
  },
  {
   "cell_type": "code",
   "execution_count": null,
   "metadata": {},
   "outputs": [],
   "source": [
    "intersection.run(100,draw=True,outpath=out(\"intersection.gif\"),markersize=10,live_connections=True)"
   ]
  },
  {
   "cell_type": "code",
   "execution_count": null,
   "metadata": {},
   "outputs": [],
   "source": [
    "sq = []\n",
    "for i in range(3):\n",
    "    for j in range(3):\n",
    "        sq.append(Road(i,j,np.ones(9)/9))\n",
    "square = World(sq,cars=[])\n",
    "square.draw(markersize=10,show=False)\n",
    "savefig(\"empty_square.png\")"
   ]
  },
  {
   "cell_type": "code",
   "execution_count": null,
   "metadata": {},
   "outputs": [],
   "source": [
    "square.add_car(Car(square.tiles[1,1],desired_speed=1))\n",
    "print(square.cars[0].color)\n",
    "square.cars[0].color=[0,0,0]\n",
    "square.draw(markersize=10,show=False,live_connections=True)\n",
    "savefig(\"occupied_square.png\")"
   ]
  },
  {
   "cell_type": "code",
   "execution_count": null,
   "metadata": {},
   "outputs": [],
   "source": [
    "square.run(25,draw=True,outpath=out(\"square.gif\"),live_connections=True,markersize=10)"
   ]
  },
  {
   "cell_type": "code",
   "execution_count": null,
   "metadata": {},
   "outputs": [],
   "source": [
    "squ"
   ]
  },
  {
   "cell_type": "code",
   "execution_count": null,
   "metadata": {},
   "outputs": [],
   "source": [
    "w = World([Onramp(1,0,NORTH),Road(1,1,NORTH),Road(2,1,WEST),Road(0,1,EAST),Exit(1,2,SOUTH)],cars=[])\n",
    "w.draw()"
   ]
  },
  {
   "cell_type": "code",
   "execution_count": null,
   "metadata": {},
   "outputs": [],
   "source": [
    "intersection_tiles = []\n",
    "\n",
    "MAIN_X = 1\n",
    "on = Onramp(MAIN_X,0,NORTH)\n",
    "on.color=\"black\"\n",
    "intersection_tiles.append(on)\n",
    "# intersection_tiles.append(Road(MAIN_X,1,NORTH))\n",
    "inter = Road(MAIN_X,1,(NORTH+EAST+WEST)/3)\n",
    "intersection_tiles.append(inter)\n",
    "\n",
    "intersection_tiles.append(Road(MAIN_X+1,1,NORTH))\n",
    "# intersection_tiles.append(Road(MAIN_X+1,2,NORTH))\n",
    "# intersection_tiles.append(Road(MAIN_X+1,4,NORTH))\n",
    "# intersection_tiles.append(Road(MAIN_X+1,5,NORTH))\n",
    "intersection_tiles.append(Exit(MAIN_X+1,2,NORTH))\n",
    "\n",
    "intersection_tiles.append(Road(MAIN_X-1,1,NORTH))\n",
    "# intersection_tiles.append(Road(MAIN_X-1,2,NORTH))\n",
    "# intersection_tiles.append(Road(MAIN_X-1,4,NORTH))\n",
    "# intersection_tiles.append(Road(MAIN_X-1,5,NORTH))\n",
    "intersection_tiles.append(Exit(MAIN_X-1,2,NORTH))\n",
    "\n",
    "\n",
    "\n",
    "intersection = World(tiles=intersection_tiles,cars=[])\n",
    "intersection.draw(markersize=10,c=\"black\",show=False)\n",
    "plt.title(\"Onramp and Exits\")\n",
    "savefig(\"onramp_and_exits.png\")\n"
   ]
  },
  {
   "cell_type": "code",
   "execution_count": null,
   "metadata": {},
   "outputs": [],
   "source": []
  }
 ],
 "metadata": {
  "kernelspec": {
   "display_name": ".venv",
   "language": "python",
   "name": "python3"
  },
  "language_info": {
   "codemirror_mode": {
    "name": "ipython",
    "version": 3
   },
   "file_extension": ".py",
   "mimetype": "text/x-python",
   "name": "python",
   "nbconvert_exporter": "python",
   "pygments_lexer": "ipython3",
   "version": "3.12.0"
  }
 },
 "nbformat": 4,
 "nbformat_minor": 2
}

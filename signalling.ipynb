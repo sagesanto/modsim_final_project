{
 "cells": [
  {
   "cell_type": "code",
   "execution_count": 1,
   "metadata": {},
   "outputs": [],
   "source": [
    "import sys, os\n",
    "from os.path import join, dirname, abspath\n",
    "import matplotlib.pyplot as plt\n",
    "from matplotlib.pyplot import Figure, Axes\n",
    "import numpy as np\n",
    "import networkx as nx\n",
    "import matplotlib.animation as animation\n",
    "from mpl_toolkits.axes_grid1 import make_axes_locatable\n",
    "from directions import *\n",
    "from string import ascii_uppercase\n",
    "plt.rcParams.update({\n",
    "    \"text.usetex\": False,\n",
    "    \"ytick.minor.visible\":True,\n",
    "    \"xtick.minor.visible\":True,\n",
    "    'xtick.direction': \"in\",\n",
    "    'ytick.direction': \"in\"\n",
    "})\n",
    "outdir = \"out\"\n",
    "os.makedirs(outdir,exist_ok=True)\n",
    "def out(fname): return join(outdir,fname)\n",
    "def savefig(plot_name): \n",
    "    plt.savefig(out(plot_name),bbox_inches=\"tight\",dpi=250)\n",
    "    \n",
    "import pandas as pd\n",
    "from numpy.linalg import matrix_power, eig\n",
    "\n",
    "def arr_to_latex(M):\n",
    "    return '$$\\n' + r'\\begin{bmatrix}' + '\\n' + (r'\\\\' + '\\n').join('&'.join(str(x) for x in row) for row in M) + '\\n' + r'\\end{bmatrix}' + '\\n' +'$$'\n",
    "\n",
    "def vec_to_latex(x,round=3):\n",
    "    return '$$\\n' + r'\\begin{bmatrix}' + '\\n' + (r' \\\\ ').join(str(np.round(v,round)) for v in x) + '\\n' + r'\\end{bmatrix}' + '\\n' +'$$'"
   ]
  },
  {
   "cell_type": "code",
   "execution_count": 2,
   "metadata": {},
   "outputs": [],
   "source": [
    "from car import Car\n",
    "from tiles import Road, Exit, Onramp\n",
    "from world import World\n",
    "from traffic_signals import Stoplight"
   ]
  },
  {
   "cell_type": "code",
   "execution_count": 3,
   "metadata": {},
   "outputs": [],
   "source": [
    "road_tiles = []\n",
    "\n",
    "on_N = Onramp(2,0,N)\n",
    "road_tiles.append(on_N)\n",
    "road_tiles.append(Road(2,1,N))\n",
    "center = Road(2,2,(N+E)/2)\n",
    "road_tiles.append(center)\n",
    "road_tiles.append(Road(2,3,N))\n",
    "road_tiles.append(Exit(2,4))\n",
    "\n",
    "on_E = Onramp(0,2,E)\n",
    "road_tiles.append(on_E)\n",
    "road_tiles.append(Road(1,2,E))\n",
    "road_tiles.append(Road(3,2,E))\n",
    "road_tiles.append(Exit(4,2))\n",
    "\n",
    "w = World(road_tiles,cars=[])"
   ]
  },
  {
   "cell_type": "code",
   "execution_count": null,
   "metadata": {},
   "outputs": [],
   "source": []
  },
  {
   "cell_type": "code",
   "execution_count": 4,
   "metadata": {},
   "outputs": [
    {
     "data": {
      "image/png": "[encoded data removed]",
      "text/plain": [
       "<Figure size 640x480 with 1 Axes>"
      ]
     },
     "metadata": {},
     "output_type": "display_data"
    }
   ],
   "source": [
    "w.draw()"
   ]
  },
  {
   "cell_type": "code",
   "execution_count": 5,
   "metadata": {},
   "outputs": [
    {
     "data": {
      "image/png": "[encoded data removed]",
      "text/plain": [
       "<Figure size 640x480 with 1 Axes>"
      ]
     },
     "metadata": {},
     "output_type": "display_data"
    },
    {
     "name": "stdout",
     "output_type": "stream",
     "text": [
      "car <car.Car object at 0x0000014FC3AE4E60>: I'm going to Road(2,1,occupied=False)!\n",
      "car <car.Car object at 0x0000014FC10F1E80>: I'm going to Road(1,2,occupied=False)!\n",
      "car <car.Car object at 0x0000014FC10F1E80>: I'm going to Road(2,2,occupied=False)!\n",
      "car <car.Car object at 0x0000014FC3B796A0>: I'm going to Road(1,2,occupied=False)!\n",
      "car <car.Car object at 0x0000014FC3AE4E60>: I'm going to Road(2,1,occupied=True)!\n",
      "car <car.Car object at 0x0000014FC191B410>: I'm going to Road(2,0,occupied=True)!\n",
      "car <car.Car object at 0x0000014FC10F1E80>: I'm going to Road(2,3,occupied=False)!\n",
      "car <car.Car object at 0x0000014FC3B796A0>: I'm going to Road(2,2,occupied=False)!\n",
      "car <car.Car object at 0x0000014FC191B410>: I'm going to Road(2,0,occupied=True)!\n",
      "car <car.Car object at 0x0000014FC1A0AC30>: I'm going to Road(1,2,occupied=False)!\n",
      "car <car.Car object at 0x0000014FC3AE4E60>: I'm going to Road(2,1,occupied=True)!\n",
      "car <car.Car object at 0x0000014FC3B796A0>: I'm going to Road(3,2,occupied=False)!\n",
      "car <car.Car object at 0x0000014FBF0EE3C0>: I'm going to Road(0,2,occupied=True)!\n",
      "car <car.Car object at 0x0000014FC3AE4E60>: I'm going to Road(2,2,occupied=False)!\n",
      "car <car.Car object at 0x0000014FC1A0AC30>: I'm going to Road(1,2,occupied=True)!\n",
      "car <car.Car object at 0x0000014FC191B410>: I'm going to Road(2,1,occupied=False)!\n",
      "car <car.Car object at 0x0000014FC10F1E80>: I'm going to Road(2,4,occupied=False)!\n",
      "car <car.Car object at 0x0000014FC3AE4E60>: I'm going to Road(2,2,occupied=True)!\n",
      "car <car.Car object at 0x0000014FC1A0AC30>: I'm going to Road(1,2,occupied=True)!\n",
      "car <car.Car object at 0x0000014FC3B796A0>: I'm going to Road(4,2,occupied=False)!\n",
      "car <car.Car object at 0x0000014FBF0EE3C0>: I'm going to Road(0,2,occupied=True)!\n",
      "car <car.Car object at 0x0000014FC191B410>: I'm going to Road(2,1,occupied=True)!\n",
      "car <car.Car object at 0x0000014FC1A34200>: I'm going to Road(2,0,occupied=True)!\n",
      "car <car.Car object at 0x0000014FC3AE4E60>: I'm going to Road(3,2,occupied=False)!\n",
      "car <car.Car object at 0x0000014FC1A0AC30>: I'm going to Road(2,2,occupied=False)!\n",
      "car <car.Car object at 0x0000014FC1A34200>: I'm going to Road(2,0,occupied=True)!\n",
      "car <car.Car object at 0x0000014FBF0EE3C0>: I'm going to Road(1,2,occupied=False)!\n",
      "car <car.Car object at 0x0000014FC191B410>: I'm going to Road(2,1,occupied=True)!\n",
      "car <car.Car object at 0x0000014FC1A7F920>: I'm going to Road(0,2,occupied=True)!\n",
      "car <car.Car object at 0x0000014FC1A34200>: I'm going to Road(2,0,occupied=True)!\n",
      "car <car.Car object at 0x0000014FC3AE4E60>: I'm going to Road(4,2,occupied=False)!\n",
      "car <car.Car object at 0x0000014FC1A0AC30>: I'm going to Road(3,2,occupied=False)!\n",
      "car <car.Car object at 0x0000014FBF0EE3C0>: I'm going to Road(2,2,occupied=False)!\n",
      "car <car.Car object at 0x0000014FC191B410>: I'm going to Road(2,1,occupied=True)!\n",
      "car <car.Car object at 0x0000014FC1A0AC30>: I'm going to Road(4,2,occupied=False)!\n",
      "car <car.Car object at 0x0000014FC1A7F920>: I'm going to Road(1,2,occupied=False)!\n",
      "car <car.Car object at 0x0000014FC1A34200>: I'm going to Road(2,0,occupied=True)!\n",
      "car <car.Car object at 0x0000014FBF0EE3C0>: I'm going to Road(2,2,occupied=True)!\n",
      "car <car.Car object at 0x0000014FC191B410>: I'm going to Road(2,1,occupied=True)!\n",
      "car <car.Car object at 0x0000014FBF0EE3C0>: I'm going to Road(3,2,occupied=False)!\n",
      "car <car.Car object at 0x0000014FC1A34200>: I'm going to Road(2,0,occupied=True)!\n",
      "car <car.Car object at 0x0000014FC1A64080>: I'm going to Road(0,2,occupied=True)!\n",
      "car <car.Car object at 0x0000014FC1A7F920>: I'm going to Road(2,2,occupied=False)!\n",
      "car <car.Car object at 0x0000014FC191B410>: I'm going to Road(2,1,occupied=True)!\n",
      "car <car.Car object at 0x0000014FC191B410>: I'm going to Road(2,1,occupied=True)!\n",
      "car <car.Car object at 0x0000014FC1A34200>: I'm going to Road(2,0,occupied=True)!\n",
      "car <car.Car object at 0x0000014FBF0EE3C0>: I'm going to Road(4,2,occupied=False)!\n",
      "car <car.Car object at 0x0000014FC1A64080>: I'm going to Road(1,2,occupied=False)!\n",
      "car <car.Car object at 0x0000014FC1A7F920>: I'm going to Road(3,2,occupied=False)!\n",
      "car <car.Car object at 0x0000014FC191B410>: I'm going to Road(2,2,occupied=False)!\n",
      "car <car.Car object at 0x0000014FC1A64080>: I'm going to Road(1,2,occupied=True)!\n",
      "car <car.Car object at 0x0000014FC1A7F920>: I'm going to Road(4,2,occupied=False)!\n",
      "car <car.Car object at 0x0000014FC4D8A3F0>: I'm going to Road(0,2,occupied=True)!\n",
      "car <car.Car object at 0x0000014FC1A34200>: I'm going to Road(2,1,occupied=False)!\n"
     ]
    }
   ],
   "source": [
    "w.run(10,draw=True,outpath=out(\"intersection.gif\"),markersize=10)"
   ]
  },
  {
   "cell_type": "code",
   "execution_count": 6,
   "metadata": {},
   "outputs": [],
   "source": [
    "s = Stoplight(tile=center,direction=4)"
   ]
  },
  {
   "cell_type": "code",
   "execution_count": 7,
   "metadata": {},
   "outputs": [
    {
     "name": "stdout",
     "output_type": "stream",
     "text": [
      "[1. 0. 0. 0. 0. 0. 0. 0. 0.]\n",
      "[0. 0. 0. 0. 0. 0. 0. 0. 1.]\n",
      "[0. 0. 0. 0. 0. 0. 0. 0. 0.]\n",
      "[0. 0. 0. 0. 0. 0. 0. 0. 1.]\n"
     ]
    }
   ],
   "source": [
    "print(s.affected_tile.carless_directions)\n",
    "print(s.affected_tile.p_directions)\n",
    "s.stop()\n",
    "print(s.affected_tile.carless_directions)\n",
    "print(s.affected_tile.p_directions)"
   ]
  },
  {
   "cell_type": "code",
   "execution_count": 8,
   "metadata": {},
   "outputs": [
    {
     "name": "stdout",
     "output_type": "stream",
     "text": [
      "Road(2,1,occupied=True)\n"
     ]
    }
   ],
   "source": [
    "print(center.neighbors[4])"
   ]
  },
  {
   "cell_type": "code",
   "execution_count": 9,
   "metadata": {},
   "outputs": [
    {
     "name": "stdout",
     "output_type": "stream",
     "text": [
      "Road(2,1,occupied=True)\n"
     ]
    }
   ],
   "source": [
    "print(s.affected_tile)"
   ]
  },
  {
   "cell_type": "code",
   "execution_count": 10,
   "metadata": {},
   "outputs": [
    {
     "name": "stdout",
     "output_type": "stream",
     "text": [
      "[0. 0. 0. 0. 0. 0. 0. 0. 0.]\n"
     ]
    }
   ],
   "source": [
    "print(s.affected_tile.carless_directions)"
   ]
  },
  {
   "cell_type": "code",
   "execution_count": 11,
   "metadata": {},
   "outputs": [
    {
     "data": {
      "image/png": "[encoded data removed]",
      "text/plain": [
       "<Figure size 640x480 with 1 Axes>"
      ]
     },
     "metadata": {},
     "output_type": "display_data"
    },
    {
     "name": "stdout",
     "output_type": "stream",
     "text": [
      "car <car.Car object at 0x0000014FC1A64080>: I'm going to Road(1,2,occupied=True)!\n",
      "car <car.Car object at 0x0000014FC1A34200>: I'm going to Road(2,1,occupied=True)!\n",
      "car <car.Car object at 0x0000014FC4D0B050>: I'm going to Road(2,0,occupied=True)!\n",
      "car <car.Car object at 0x0000014FC4D8A3F0>: I'm going to Road(0,2,occupied=True)!\n",
      "car <car.Car object at 0x0000014FC191B410>: I'm going to Road(2,2,occupied=True)!\n",
      "car <car.Car object at 0x0000014FC1A64080>: I'm going to Road(1,2,occupied=True)!\n",
      "car <car.Car object at 0x0000014FC4D0B050>: I'm going to Road(2,0,occupied=True)!\n",
      "car <car.Car object at 0x0000014FC4D8A3F0>: I'm going to Road(0,2,occupied=True)!\n",
      "car <car.Car object at 0x0000014FC1A34200>: I'm going to Road(2,1,occupied=True)!\n",
      "car <car.Car object at 0x0000014FC191B410>: I'm going to Road(2,2,occupied=True)!\n",
      "car <car.Car object at 0x0000014FC1A64080>: I'm going to Road(1,2,occupied=True)!\n",
      "car <car.Car object at 0x0000014FC1A34200>: I'm going to Road(2,1,occupied=True)!\n",
      "car <car.Car object at 0x0000014FC4D8A3F0>: I'm going to Road(0,2,occupied=True)!\n",
      "car <car.Car object at 0x0000014FC191B410>: I'm going to Road(2,3,occupied=False)!\n",
      "car <car.Car object at 0x0000014FC4D0B050>: I'm going to Road(2,0,occupied=True)!\n",
      "car <car.Car object at 0x0000014FC1A34200>: I'm going to Road(2,2,occupied=False)!\n",
      "car <car.Car object at 0x0000014FC191B410>: I'm going to Road(2,4,occupied=False)!\n",
      "car <car.Car object at 0x0000014FC1A64080>: I'm going to Road(1,2,occupied=True)!\n",
      "car <car.Car object at 0x0000014FC4D0B050>: I'm going to Road(2,1,occupied=False)!\n",
      "car <car.Car object at 0x0000014FC4D8A3F0>: I'm going to Road(0,2,occupied=True)!\n",
      "car <car.Car object at 0x0000014FC1A64080>: I'm going to Road(1,2,occupied=True)!\n",
      "car <car.Car object at 0x0000014FC4D8A3F0>: I'm going to Road(0,2,occupied=True)!\n",
      "car <car.Car object at 0x0000014FC3B56DE0>: I'm going to Road(2,0,occupied=True)!\n",
      "car <car.Car object at 0x0000014FC1A34200>: I'm going to Road(2,3,occupied=False)!\n",
      "car <car.Car object at 0x0000014FC4D0B050>: I'm going to Road(2,2,occupied=False)!\n",
      "car <car.Car object at 0x0000014FC4D8A3F0>: I'm going to Road(0,2,occupied=True)!\n",
      "car <car.Car object at 0x0000014FC3B56DE0>: I'm going to Road(2,1,occupied=False)!\n",
      "car <car.Car object at 0x0000014FC4D0B050>: I'm going to Road(2,2,occupied=True)!\n",
      "car <car.Car object at 0x0000014FC1A34200>: I'm going to Road(2,4,occupied=False)!\n",
      "car <car.Car object at 0x0000014FC1A64080>: I'm going to Road(1,2,occupied=True)!\n",
      "car <car.Car object at 0x0000014FC4D8A3F0>: I'm going to Road(0,2,occupied=True)!\n",
      "car <car.Car object at 0x0000014FC3B56DE0>: I'm going to Road(2,1,occupied=True)!\n",
      "car <car.Car object at 0x0000014FC191ACC0>: I'm going to Road(2,0,occupied=True)!\n",
      "car <car.Car object at 0x0000014FC1A64080>: I'm going to Road(1,2,occupied=True)!\n",
      "car <car.Car object at 0x0000014FC4D0B050>: I'm going to Road(3,2,occupied=False)!\n",
      "car <car.Car object at 0x0000014FC4D0B050>: I'm going to Road(4,2,occupied=False)!\n",
      "car <car.Car object at 0x0000014FC3B56DE0>: I'm going to Road(2,2,occupied=False)!\n",
      "car <car.Car object at 0x0000014FC1A64080>: I'm going to Road(1,2,occupied=True)!\n",
      "car <car.Car object at 0x0000014FC191ACC0>: I'm going to Road(2,1,occupied=False)!\n",
      "car <car.Car object at 0x0000014FC4D8A3F0>: I'm going to Road(0,2,occupied=True)!\n",
      "car <car.Car object at 0x0000014FC1A64080>: I'm going to Road(1,2,occupied=True)!\n",
      "car <car.Car object at 0x0000014FC19CB7A0>: I'm going to Road(2,0,occupied=True)!\n",
      "car <car.Car object at 0x0000014FC191ACC0>: I'm going to Road(2,1,occupied=True)!\n",
      "car <car.Car object at 0x0000014FC3B56DE0>: I'm going to Road(2,3,occupied=False)!\n",
      "car <car.Car object at 0x0000014FC4D8A3F0>: I'm going to Road(0,2,occupied=True)!\n",
      "car <car.Car object at 0x0000014FC19CB7A0>: I'm going to Road(2,0,occupied=True)!\n",
      "car <car.Car object at 0x0000014FC3B56DE0>: I'm going to Road(2,4,occupied=False)!\n",
      "car <car.Car object at 0x0000014FC4D8A3F0>: I'm going to Road(0,2,occupied=True)!\n",
      "car <car.Car object at 0x0000014FC1A64080>: I'm going to Road(2,2,occupied=False)!\n",
      "car <car.Car object at 0x0000014FC191ACC0>: I'm going to Road(2,1,occupied=True)!\n",
      "car <car.Car object at 0x0000014FC4D8A3F0>: I'm going to Road(1,2,occupied=False)!\n",
      "car <car.Car object at 0x0000014FC1A64080>: I'm going to Road(2,3,occupied=False)!\n",
      "car <car.Car object at 0x0000014FC19CB7A0>: I'm going to Road(2,0,occupied=True)!\n",
      "car <car.Car object at 0x0000014FC191ACC0>: I'm going to Road(2,2,occupied=False)!\n"
     ]
    }
   ],
   "source": [
    "w.run(10,draw=True,outpath=out(\"intersection.gif\"),markersize=10)"
   ]
  },
  {
   "cell_type": "code",
   "execution_count": null,
   "metadata": {},
   "outputs": [],
   "source": []
  }
 ],
 "metadata": {
  "kernelspec": {
   "display_name": ".venv",
   "language": "python",
   "name": "python3"
  },
  "language_info": {
   "codemirror_mode": {
    "name": "ipython",
    "version": 3
   },
   "file_extension": ".py",
   "mimetype": "text/x-python",
   "name": "python",
   "nbconvert_exporter": "python",
   "pygments_lexer": "ipython3",
   "version": "3.12.0"
  }
 },
 "nbformat": 4,
 "nbformat_minor": 2
}

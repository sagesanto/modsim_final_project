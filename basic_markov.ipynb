{
 "cells": [
  {
   "cell_type": "code",
   "execution_count": null,
   "metadata": {},
   "outputs": [],
   "source": [
    "import sys, os\n",
    "from os.path import join, dirname, abspath\n",
    "import matplotlib.pyplot as plt\n",
    "from matplotlib.pyplot import Figure, Axes\n",
    "import numpy as np\n",
    "import networkx as nx\n",
    "import matplotlib.animation as animation\n",
    "from mpl_toolkits.axes_grid1 import make_axes_locatable\n",
    "\n",
    "from string import ascii_uppercase\n",
    "plt.rcParams.update({\n",
    "    \"text.usetex\": False,\n",
    "    \"ytick.minor.visible\":True,\n",
    "    \"xtick.minor.visible\":True,\n",
    "    'xtick.direction': \"in\",\n",
    "    'ytick.direction': \"in\"\n",
    "})\n",
    "outdir = \"out\"\n",
    "os.makedirs(outdir,exist_ok=True)\n",
    "def out(fname): return join(outdir,fname)\n",
    "def savefig(plot_name): \n",
    "    plt.savefig(out(plot_name),bbox_inches=\"tight\",dpi=250)\n",
    "import pandas as pd\n",
    "from numpy.linalg import matrix_power, eig\n",
    "\n",
    "def arr_to_latex(M):\n",
    "    return '$$\\n' + r'\\begin{bmatrix}' + '\\n' + (r'\\\\' + '\\n').join('&'.join(str(x) for x in row) for row in M) + '\\n' + r'\\end{bmatrix}' + '\\n' +'$$'\n",
    "\n",
    "def vec_to_latex(x,round=3):\n",
    "    return '$$\\n' + r'\\begin{bmatrix}' + '\\n' + (r' \\\\ ').join(str(np.round(v,round)) for v in x) + '\\n' + r'\\end{bmatrix}' + '\\n' +'$$'"
   ]
  },
  {
   "cell_type": "code",
   "execution_count": null,
   "metadata": {},
   "outputs": [],
   "source": [
    "from car import Car\n",
    "from tiles import Road, Exit\n",
    "from world import World"
   ]
  },
  {
   "cell_type": "code",
   "execution_count": null,
   "metadata": {},
   "outputs": [],
   "source": [
    "GRID_WIDTH = 5\n",
    "GRID_HEIGHT = 6"
   ]
  },
  {
   "cell_type": "code",
   "execution_count": null,
   "metadata": {},
   "outputs": [],
   "source": [
    "road_tiles = []\n",
    "for i in range(0,GRID_WIDTH):\n",
    "    for j in range(0,GRID_HEIGHT):\n",
    "        if not ((j == 2 or j == 3) and i == 2):\n",
    "            road_tiles.append(Road(i,j,np.ones(9)/9))\n",
    "len(road_tiles)"
   ]
  },
  {
   "cell_type": "code",
   "execution_count": null,
   "metadata": {},
   "outputs": [],
   "source": [
    "w = World(tiles=road_tiles,cars=[])"
   ]
  },
  {
   "cell_type": "code",
   "execution_count": null,
   "metadata": {},
   "outputs": [],
   "source": [
    "w.draw()"
   ]
  },
  {
   "cell_type": "code",
   "execution_count": null,
   "metadata": {},
   "outputs": [],
   "source": [
    "num_steps = 250"
   ]
  },
  {
   "cell_type": "code",
   "execution_count": null,
   "metadata": {},
   "outputs": [],
   "source": [
    "m = w.markov\n",
    "c = np.zeros(m.shape[0])\n",
    "c[0] = 1\n",
    "car_locs = [c]\n",
    "for _ in range(num_steps-1):\n",
    "    # car_locs.append(car_locs[-1]@m)\n",
    "    car_locs.append(m.T@car_locs[-1])\n",
    "car_locs = np.array(car_locs)"
   ]
  },
  {
   "cell_type": "code",
   "execution_count": null,
   "metadata": {},
   "outputs": [],
   "source": [
    "car_locs.shape"
   ]
  },
  {
   "cell_type": "code",
   "execution_count": null,
   "metadata": {},
   "outputs": [],
   "source": [
    "fig, axes = plt.subplots(1,2,sharex=True,sharey=True)\n",
    "fig.tight_layout()\n",
    "div = make_axes_locatable(axes[0])\n",
    "cax = div.append_axes(\"bottom\", size=\"5%\", pad=0.05)\n",
    "d2 = make_axes_locatable(axes[1])\n",
    "cax2 = d2.append_axes(\"bottom\", size=\"5%\", pad=0.05)\n",
    "cax2.get_xaxis().set_visible(False)\n",
    "cax2.get_yaxis().set_visible(False)\n",
    "w.draw(ax=axes[1],live_connections=True)\n",
    "def update(frame):\n",
    "    ax = axes[0]\n",
    "    ax.cla()\n",
    "    cax.cla()\n",
    "    heatmap = np.zeros((GRID_HEIGHT,GRID_WIDTH))\n",
    "    for i,t in enumerate(w._tiles):\n",
    "        heatmap[t.y,t.x] = car_locs[frame][i]\n",
    "    im = ax.imshow(heatmap,cmap=\"inferno\",origin=\"lower\",vmin=min(car_locs[i]),vmax=max(car_locs[i]))\n",
    "    cb1 = fig.colorbar(im,cax=cax,label=\"P(Car in Tile)\",location=\"bottom\")\n",
    "    # cb1 = fig.colorbar(im,ax=ax,label=\"P(Car in Tile)\",location=\"bottom\")\n",
    "    ax.set_xticks([])\n",
    "    ax.set_yticks([])\n",
    "    # ax.bar(np.arange(len(car_locs[frame])),car_locs[frame])\n",
    "    # ax.set_ylim(0,1)\n",
    "    # ax.set_xlabel(\"Road Tile\")\n",
    "    # ax.set_ylabel(\"P(Road Tile)\")\n",
    "    fig.suptitle(\"Markov Chain Model for Car in Network\")\n",
    "    ax.set_title(f\"t = {frame}\")\n",
    "\n",
    "    \n",
    "ani = animation.FuncAnimation(fig,update,frames=len(car_locs),interval=100)\n",
    "ani.save(filename=out(\"one_car.gif\"), writer=\"pillow\",dpi=150)"
   ]
  },
  {
   "cell_type": "code",
   "execution_count": null,
   "metadata": {},
   "outputs": [],
   "source": [
    "car_locs[-1]"
   ]
  },
  {
   "cell_type": "code",
   "execution_count": null,
   "metadata": {},
   "outputs": [],
   "source": [
    "heatmap = np.zeros((GRID_HEIGHT,GRID_WIDTH))\n",
    "for i,t in enumerate(w._tiles):\n",
    "    heatmap[t.y,t.x] = car_locs[-1][i]\n",
    "im=plt.imshow(heatmap,cmap=\"inferno\",origin=\"lower\",vmin=min(car_locs[-1]),vmax=max(car_locs[-1]))\n",
    "plt.colorbar(im)"
   ]
  },
  {
   "cell_type": "code",
   "execution_count": null,
   "metadata": {},
   "outputs": [],
   "source": [
    "heatmap = np.zeros((GRID_HEIGHT,GRID_WIDTH))\n",
    "for i,t in enumerate(w._tiles):\n",
    "    heatmap[t.y,t.x] = car_locs[-1][i]\n",
    "im=plt.imshow(heatmap,cmap=\"inferno\",origin=\"lower\",vmin=min(car_locs[-1]),vmax=max(car_locs[-1]))\n",
    "plt.colorbar(im)"
   ]
  },
  {
   "cell_type": "code",
   "execution_count": null,
   "metadata": {},
   "outputs": [],
   "source": [
    "fig, ax = plt.subplots()\n",
    "\n",
    "for r in road_tiles:\n",
    "    r.plot(ax)\n",
    "shift_amount = 0.5\n",
    "\n",
    "print(ax.get_xticks())\n",
    "\n",
    "xticks = np.arange(GRID_WIDTH) + shift_amount\n",
    "yticks = np.arange(GRID_WIDTH) + shift_amount\n",
    "\n",
    "ax.set_xticks(xticks)\n",
    "ax.set_yticks(yticks)\n",
    "\n",
    "ax.set_xticklabels([])\n",
    "ax.set_yticklabels([])\n",
    "ax.set_aspect('equal')\n",
    "\n",
    "# Enable the grid\n",
    "ax.grid(which=\"major\")\n"
   ]
  },
  {
   "cell_type": "code",
   "execution_count": null,
   "metadata": {},
   "outputs": [],
   "source": [
    "# p_directions goes clockwise:\n",
    "    #[ p(N)    0\n",
    "    #  p(NE)   1\n",
    "    #  p(E)    2\n",
    "    #  p(SE)   3\n",
    "    #  p(S)    4\n",
    "    #  p(SW)   5\n",
    "    #  p(W)    6\n",
    "    #  p(NW)   7\n",
    "    #  p(stay) 8 ]\n",
    "# must sum to 1\n",
    "NORTH = np.array([1,0,0,0,0,0,0,0,0])\n",
    "NORTHEAST = np.array([0,1,0,0,0,0,0,0,0])\n",
    "EAST = np.array([0,0,1,0,0,0,0,0,0])\n",
    "SOUTHEAST = np.array([0,0,0,1,0,0,0,0,0])\n",
    "SOUTH = np.array([0,0,0,0,1,0,0,0,0])\n",
    "SOUTHWEST = np.array([0,0,0,0,0,1,0,0,0])\n",
    "WEST = np.array([0,0,0,0,0,0,1,0,0])\n",
    "NORTHWEST = np.array([0,0,0,0,0,0,0,1,0])\n",
    "STAY = np.array([0,0,0,0,0,0,0,0,1])\n",
    "NORTH_NORTHEAST = 0.75*NORTH + 0.25*NORTHEAST\n",
    "NORTH_NORTHWEST = 0.75*NORTH + 0.25*NORTHWEST\n",
    "NORTH_NORTHEAST_NORTHWEST = 0.75*NORTH + 0.125*NORTHEAST + 0.125*NORTHWEST\n",
    "EAST_NORTHEAST = 0.75*EAST + 0.25*NORTHEAST\n",
    "EAST_SOUTHEAST = 0.75*EAST + 0.25*SOUTHEAST\n",
    "EAST_NORTHEAST_SOUTHEAST = 0.75*EAST + 0.125*NORTHEAST + 0.125*SOUTHEAST\n",
    "SOUTH_SOUTHEAST = 0.75*SOUTH + 0.25*SOUTHEAST\n",
    "SOUTH_SOUTHWEST = 0.75*SOUTH + 0.25*SOUTHWEST\n",
    "SOUTH_SOUTHEAST_SOUTHWEST = 0.75*SOUTH + 0.125*SOUTHEAST + 0.125*SOUTHWEST\n",
    "\n",
    "directions = [NORTH, NORTHEAST, EAST, SOUTHEAST, SOUTH, SOUTHWEST, WEST, NORTHWEST, STAY,\n",
    "              NORTH_NORTHEAST, NORTH_NORTHWEST, NORTH_NORTHEAST_NORTHWEST, EAST_NORTHEAST, EAST_SOUTHEAST, EAST_NORTHEAST_SOUTHEAST,\n",
    "              SOUTH_SOUTHEAST, SOUTH_SOUTHWEST, SOUTH_SOUTHEAST_SOUTHWEST]\n",
    "direction_names = [\"NORTH\", \"NORTHEAST\", \"EAST\", \"SOUTHEAST\", \"SOUTH\", \"SOUTHWEST\", \"WEST\", \"NORTHWEST\", \"STAY\",\"NORTH-NORTHEAST\", \"NORTH-NORTHWEST\", \"NORTH-NORTHEAST-NORTHWEST\", \"EAST-NORTHEAST\", \"EAST-SOUTHEAST\", \"EAST-NORTHEAST-SOUTHEAST\",\"SOUTH-SOUTHEAST\", \"SOUTH-SOUTHWEST\", \"SOUTH-SOUTHEAST-SOUTHWEST\"]"
   ]
  },
  {
   "cell_type": "code",
   "execution_count": null,
   "metadata": {},
   "outputs": [],
   "source": [
    "# for dir, name in zip(directions,direction_names):\n",
    "#     fig, ax = plt.subplots()\n",
    "#     r = Road(1,1,dir)\n",
    "#     r.plot(ax)\n",
    "#     ax.set_xticks([])\n",
    "#     ax.set_yticks([])\n",
    "#     ax.set_aspect('equal')\n",
    "#     ax.set_title(name)"
   ]
  },
  {
   "cell_type": "code",
   "execution_count": null,
   "metadata": {},
   "outputs": [],
   "source": []
  }
 ],
 "metadata": {
  "kernelspec": {
   "display_name": ".venv",
   "language": "python",
   "name": "python3"
  },
  "language_info": {
   "codemirror_mode": {
    "name": "ipython",
    "version": 3
   },
   "file_extension": ".py",
   "mimetype": "text/x-python",
   "name": "python",
   "nbconvert_exporter": "python",
   "pygments_lexer": "ipython3",
   "version": "3.12.0"
  }
 },
 "nbformat": 4,
 "nbformat_minor": 2
}

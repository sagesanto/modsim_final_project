{
 "cells": [
  {
   "cell_type": "code",
   "execution_count": 1,
   "metadata": {},
   "outputs": [],
   "source": [
    "import sys, os\n",
    "from os.path import join, dirname, abspath\n",
    "import matplotlib.pyplot as plt\n",
    "from matplotlib.pyplot import Figure, Axes\n",
    "import numpy as np\n",
    "import networkx as nx\n",
    "import matplotlib.animation as animation\n",
    "from mpl_toolkits.axes_grid1 import make_axes_locatable\n",
    "\n",
    "from string import ascii_uppercase\n",
    "plt.rcParams.update({\n",
    "    \"text.usetex\": False,\n",
    "    \"ytick.minor.visible\":True,\n",
    "    \"xtick.minor.visible\":True,\n",
    "    'xtick.direction': \"in\",\n",
    "    'ytick.direction': \"in\"\n",
    "})\n",
    "outdir = \"out\"\n",
    "os.makedirs(outdir,exist_ok=True)\n",
    "def out(fname): return join(outdir,fname)\n",
    "def savefig(plot_name): \n",
    "    plt.savefig(out(plot_name),bbox_inches=\"tight\",dpi=250)\n",
    "    \n",
    "import pandas as pd\n",
    "from numpy.linalg import matrix_power, eig\n",
    "\n",
    "def arr_to_latex(M):\n",
    "    return '$$\\n' + r'\\begin{bmatrix}' + '\\n' + (r'\\\\' + '\\n').join('&'.join(str(x) for x in row) for row in M) + '\\n' + r'\\end{bmatrix}' + '\\n' +'$$'\n",
    "\n",
    "def vec_to_latex(x,round=3):\n",
    "    return '$$\\n' + r'\\begin{bmatrix}' + '\\n' + (r' \\\\ ').join(str(np.round(v,round)) for v in x) + '\\n' + r'\\end{bmatrix}' + '\\n' +'$$'"
   ]
  },
  {
   "cell_type": "code",
   "execution_count": 2,
   "metadata": {},
   "outputs": [],
   "source": [
    "from car import Car\n",
    "from tiles import Road, Exit\n",
    "from world import World"
   ]
  },
  {
   "cell_type": "markdown",
   "metadata": {},
   "source": [
    "# Test: do we restore the original state of a cell after driving through"
   ]
  },
  {
   "cell_type": "code",
   "execution_count": 3,
   "metadata": {},
   "outputs": [
    {
     "name": "stdout",
     "output_type": "stream",
     "text": [
      "[0.16666667 0.16666667 0.16666667 0.16666667 0.16666667 0.\n",
      " 0.         0.         0.16666667]\n",
      "changing neighbor 0 idx 4 (prev 0.16666666666666666) of Road(0,1,occupied=False) to 0\n",
      "0.16666666666666666 [0.2 0.2 0.2 0.2 0.  0.  0.  0.  0.2] [0 1 2 3 8]\n",
      "[0.125 0.    0.125 0.125 0.125 0.125 0.125 0.125 0.125]\n",
      "changing neighbor 1 idx 5 (prev 0.125) of Road(1,1,occupied=False) to 0\n",
      "0.125 [0.14285714 0.         0.14285714 0.14285714 0.14285714 0.\n",
      " 0.14285714 0.14285714 0.14285714] [0 2 3 4 6 7 8]\n",
      "[0.16666667 0.16666667 0.16666667 0.         0.         0.\n",
      " 0.16666667 0.16666667 0.16666667]\n",
      "changing neighbor 2 idx 6 (prev 0.16666666666666666) of Road(1,0,occupied=False) to 0\n",
      "0.16666666666666666 [0.2 0.2 0.2 0.  0.  0.  0.  0.2 0.2] [0 1 2 7 8]\n",
      "[0.25 0.25 0.25 0.   0.   0.   0.   0.   0.25]\n",
      "changing neighbor 0 idx 4 (prev 0.0) of Road(0,1,occupied=False) to 0.16666666666666666\n",
      "0.16666666666666666 [0.16666667 0.16666667 0.16666667 0.16666667 0.16666667 0.\n",
      " 0.         0.         0.16666667] [0 1 2 3 8]\n",
      "changing neighbor 1 idx 5 (prev 0.0) of Road(1,1,occupied=False) to 0.125\n",
      "0.125 [0.125 0.    0.125 0.125 0.125 0.125 0.125 0.125 0.125] [0 2 3 4 6 7 8]\n",
      "changing neighbor 2 idx 6 (prev 0.0) of Road(1,0,occupied=False) to 0.16666666666666666\n",
      "0.16666666666666666 [0.16666667 0.16666667 0.16666667 0.         0.         0.\n",
      " 0.16666667 0.16666667 0.16666667] [0 1 2 7 8]\n",
      "[0.16666667 0.16666667 0.16666667 0.16666667 0.16666667 0.\n",
      " 0.         0.         0.16666667]\n",
      "changing neighbor 0 idx 4 (prev 0.16666666666666666) of Road(0,2,occupied=False) to 0\n",
      "0.16666666666666666 [0.2 0.2 0.2 0.2 0.  0.  0.  0.  0.2] [0 1 2 3 8]\n",
      "[0.14285714 0.         0.         0.14285714 0.14285714 0.14285714\n",
      " 0.14285714 0.14285714 0.14285714]\n",
      "changing neighbor 1 idx 5 (prev 0.14285714285714285) of Road(1,2,occupied=False) to 0\n",
      "0.14285714285714285 [0.16666667 0.         0.         0.16666667 0.16666667 0.\n",
      " 0.16666667 0.16666667 0.16666667] [0 3 4 6 7 8]\n",
      "[0.125 0.    0.125 0.125 0.125 0.125 0.125 0.125 0.125]\n",
      "changing neighbor 2 idx 6 (prev 0.125) of Road(1,1,occupied=False) to 0\n",
      "0.125 [0.14285714 0.         0.14285714 0.14285714 0.14285714 0.14285714\n",
      " 0.         0.14285714 0.14285714] [0 2 3 4 5 7 8]\n",
      "[0.16666667 0.16666667 0.16666667 0.         0.         0.\n",
      " 0.16666667 0.16666667 0.16666667]\n",
      "changing neighbor 3 idx 7 (prev 0.16666666666666666) of Road(1,0,occupied=False) to 0\n",
      "0.16666666666666666 [0.2 0.2 0.2 0.  0.  0.  0.2 0.  0.2] [0 1 2 6 8]\n",
      "[0.25 0.25 0.25 0.   0.   0.   0.   0.   0.25]\n",
      "changing neighbor 4 idx 0 (prev 0.25) of Road(0,0,occupied=False) to 0\n",
      "0.25 [0.         0.33333333 0.33333333 0.         0.         0.\n",
      " 0.         0.         0.33333333] [1 2 8]\n",
      "changing neighbor 0 idx 4 (prev 0.0) of Road(0,2,occupied=False) to 0.16666666666666666\n",
      "0.16666666666666666 [0.16666667 0.16666667 0.16666667 0.16666667 0.16666667 0.\n",
      " 0.         0.         0.16666667] [0 1 2 3 8]\n",
      "changing neighbor 1 idx 5 (prev 0.0) of Road(1,2,occupied=False) to 0.14285714285714285\n",
      "0.14285714285714285 [0.14285714 0.         0.         0.14285714 0.14285714 0.14285714\n",
      " 0.14285714 0.14285714 0.14285714] [0 3 4 6 7 8]\n",
      "changing neighbor 2 idx 6 (prev 0.0) of Road(1,1,occupied=False) to 0.125\n",
      "0.125 [0.125 0.    0.125 0.125 0.125 0.125 0.125 0.125 0.125] [0 2 3 4 5 7 8]\n",
      "changing neighbor 3 idx 7 (prev 0.0) of Road(1,0,occupied=False) to 0.16666666666666666\n",
      "0.16666666666666666 [0.16666667 0.16666667 0.16666667 0.         0.         0.\n",
      " 0.16666667 0.16666667 0.16666667] [0 1 2 6 8]\n",
      "changing neighbor 4 idx 0 (prev 0.0) of Road(0,0,occupied=False) to 0.25\n",
      "0.25 [0.25 0.25 0.25 0.   0.   0.   0.   0.   0.25] [1 2 8]\n",
      "[0.16666667 0.16666667 0.16666667 0.16666667 0.16666667 0.\n",
      " 0.         0.         0.16666667]\n",
      "changing neighbor 0 idx 4 (prev 0.16666666666666666) of Road(0,3,occupied=False) to 0\n",
      "0.16666666666666666 [0.2 0.2 0.2 0.2 0.  0.  0.  0.  0.2] [0 1 2 3 8]\n",
      "[0.14285714 0.14285714 0.         0.         0.14285714 0.14285714\n",
      " 0.14285714 0.14285714 0.14285714]\n",
      "changing neighbor 1 idx 5 (prev 0.14285714285714285) of Road(1,3,occupied=False) to 0\n",
      "0.14285714285714285 [0.16666667 0.16666667 0.         0.         0.16666667 0.\n",
      " 0.16666667 0.16666667 0.16666667] [0 1 4 6 7 8]\n",
      "[0.14285714 0.         0.         0.14285714 0.14285714 0.14285714\n",
      " 0.14285714 0.14285714 0.14285714]\n",
      "changing neighbor 2 idx 6 (prev 0.14285714285714285) of Road(1,2,occupied=False) to 0\n",
      "0.14285714285714285 [0.16666667 0.         0.         0.16666667 0.16666667 0.16666667\n",
      " 0.         0.16666667 0.16666667] [0 3 4 5 7 8]\n",
      "[0.125 0.    0.125 0.125 0.125 0.125 0.125 0.125 0.125]\n",
      "changing neighbor 3 idx 7 (prev 0.125) of Road(1,1,occupied=False) to 0\n",
      "0.125 [0.14285714 0.         0.14285714 0.14285714 0.14285714 0.14285714\n",
      " 0.14285714 0.         0.14285714] [0 2 3 4 5 6 8]\n",
      "[0.16666667 0.16666667 0.16666667 0.16666667 0.16666667 0.\n",
      " 0.         0.         0.16666667]\n",
      "changing neighbor 4 idx 0 (prev 0.16666666666666666) of Road(0,1,occupied=False) to 0\n",
      "0.16666666666666666 [0.  0.2 0.2 0.2 0.2 0.  0.  0.  0.2] [1 2 3 4 8]\n"
     ]
    }
   ],
   "source": [
    "GRID_WIDTH = 5\n",
    "GRID_HEIGHT = 6\n",
    "road_tiles = []\n",
    "for i in range(0,GRID_WIDTH):\n",
    "    for j in range(0,GRID_HEIGHT):\n",
    "        if not ((j == 2 or j == 3) and i == 2):\n",
    "            road_tiles.append(Road(i,j,np.ones(9)/9))\n",
    "len(road_tiles)\n",
    "car = Car(road_tiles[0],desired_speed=1)\n",
    "w = World(tiles=road_tiles,cars=[car])\n",
    "orig_direction = np.array(road_tiles[0].p_directions, copy=True)\n",
    "print(orig_direction)\n",
    "car.reset()\n",
    "car.move_to(road_tiles[1])\n",
    "car.reset()\n",
    "car.move_to(road_tiles[2])\n",
    "assert np.allclose(road_tiles[0].p_directions, orig_direction)"
   ]
  },
  {
   "cell_type": "markdown",
   "metadata": {},
   "source": [
    "# Test: can we catch bad moves from the car"
   ]
  },
  {
   "cell_type": "code",
   "execution_count": 4,
   "metadata": {},
   "outputs": [
    {
     "name": "stdout",
     "output_type": "stream",
     "text": [
      "[0.16666667 0.16666667 0.16666667 0.16666667 0.16666667 0.\n",
      " 0.         0.         0.16666667]\n",
      "changing neighbor 0 idx 4 (prev 0.16666666666666666) of Road(0,1,occupied=False) to 0\n",
      "0.16666666666666666 [0.2 0.2 0.2 0.2 0.  0.  0.  0.  0.2] [0 1 2 3 8]\n",
      "[0.125 0.    0.125 0.125 0.125 0.125 0.125 0.125 0.125]\n",
      "changing neighbor 1 idx 5 (prev 0.125) of Road(1,1,occupied=False) to 0\n",
      "0.125 [0.14285714 0.         0.14285714 0.14285714 0.14285714 0.\n",
      " 0.14285714 0.14285714 0.14285714] [0 2 3 4 6 7 8]\n",
      "[0.16666667 0.16666667 0.16666667 0.         0.         0.\n",
      " 0.16666667 0.16666667 0.16666667]\n",
      "changing neighbor 2 idx 6 (prev 0.16666666666666666) of Road(1,0,occupied=False) to 0\n",
      "0.16666666666666666 [0.2 0.2 0.2 0.  0.  0.  0.  0.2 0.2] [0 1 2 7 8]\n"
     ]
    }
   ],
   "source": [
    "GRID_WIDTH = 5\n",
    "GRID_HEIGHT = 6\n",
    "road_tiles = []\n",
    "for i in range(0,GRID_WIDTH):\n",
    "    for j in range(0,GRID_HEIGHT):\n",
    "        if not ((j == 2 or j == 3) and i == 2):\n",
    "            road_tiles.append(Road(i,j,np.ones(9)/9))\n",
    "car = Car(road_tiles[0],desired_speed=1)\n",
    "w = World(tiles=road_tiles,cars=[car])\n",
    "try:\n",
    "    car.move_to(road_tiles[2])\n",
    "    raise ValueError(\"Car should not have been able to move there!\")\n",
    "except ValueError:\n",
    "    pass  # :)"
   ]
  },
  {
   "cell_type": "code",
   "execution_count": null,
   "metadata": {},
   "outputs": [],
   "source": []
  }
 ],
 "metadata": {
  "kernelspec": {
   "display_name": ".venv",
   "language": "python",
   "name": "python3"
  },
  "language_info": {
   "codemirror_mode": {
    "name": "ipython",
    "version": 3
   },
   "file_extension": ".py",
   "mimetype": "text/x-python",
   "name": "python",
   "nbconvert_exporter": "python",
   "pygments_lexer": "ipython3",
   "version": "3.12.0"
  }
 },
 "nbformat": 4,
 "nbformat_minor": 2
}

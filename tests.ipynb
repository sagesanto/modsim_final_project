{
 "cells": [
  {
   "cell_type": "code",
   "execution_count": null,
   "metadata": {},
   "outputs": [],
   "source": [
    "import sys, os\n",
    "from os.path import join, dirname, abspath\n",
    "import matplotlib.pyplot as plt\n",
    "from matplotlib.pyplot import Figure, Axes\n",
    "import numpy as np\n",
    "import networkx as nx\n",
    "import matplotlib.animation as animation\n",
    "from mpl_toolkits.axes_grid1 import make_axes_locatable\n",
    "\n",
    "from string import ascii_uppercase\n",
    "plt.rcParams.update({\n",
    "    \"text.usetex\": False,\n",
    "    \"ytick.minor.visible\":True,\n",
    "    \"xtick.minor.visible\":True,\n",
    "    'xtick.direction': \"in\",\n",
    "    'ytick.direction': \"in\"\n",
    "})\n",
    "outdir = \"out\"\n",
    "os.makedirs(outdir,exist_ok=True)\n",
    "def out(fname): return join(outdir,fname)\n",
    "def savefig(plot_name): \n",
    "    plt.savefig(out(plot_name),bbox_inches=\"tight\",dpi=250)\n",
    "    \n",
    "import pandas as pd\n",
    "from numpy.linalg import matrix_power, eig\n",
    "\n",
    "def arr_to_latex(M):\n",
    "    return '$$\\n' + r'\\begin{bmatrix}' + '\\n' + (r'\\\\' + '\\n').join('&'.join(str(x) for x in row) for row in M) + '\\n' + r'\\end{bmatrix}' + '\\n' +'$$'\n",
    "\n",
    "def vec_to_latex(x,round=3):\n",
    "    return '$$\\n' + r'\\begin{bmatrix}' + '\\n' + (r' \\\\ ').join(str(np.round(v,round)) for v in x) + '\\n' + r'\\end{bmatrix}' + '\\n' +'$$'"
   ]
  },
  {
   "cell_type": "code",
   "execution_count": null,
   "metadata": {},
   "outputs": [],
   "source": [
    "from car import Car\n",
    "from tiles import Road, Exit\n",
    "from world import World"
   ]
  },
  {
   "cell_type": "code",
   "execution_count": null,
   "metadata": {},
   "outputs": [],
   "source": [
    "GRID_WIDTH = 3\n",
    "GRID_HEIGHT = 3\n",
    "road_tiles = []\n",
    "for i in range(0,GRID_WIDTH):\n",
    "    for j in range(0,GRID_HEIGHT):\n",
    "        road_tiles.append(Road(i,j,np.ones(9)/9))\n",
    "w = World(tiles=road_tiles,cars=[])\n",
    "w.draw()"
   ]
  },
  {
   "cell_type": "code",
   "execution_count": null,
   "metadata": {},
   "outputs": [],
   "source": [
    "c = Car(tile=road_tiles[4],desired_speed=1)\n",
    "w.add_car(c)\n",
    "w.draw()"
   ]
  },
  {
   "cell_type": "markdown",
   "metadata": {},
   "source": [
    "# Test: do we restore the original state of a cell after driving through"
   ]
  },
  {
   "cell_type": "code",
   "execution_count": null,
   "metadata": {},
   "outputs": [],
   "source": [
    "GRID_WIDTH = 5\n",
    "GRID_HEIGHT = 6\n",
    "road_tiles = []\n",
    "for i in range(0,GRID_WIDTH):\n",
    "    for j in range(0,GRID_HEIGHT):\n",
    "        if not ((j == 2 or j == 3) and i == 2):\n",
    "            road_tiles.append(Road(i,j,np.ones(9)/9))\n",
    "len(road_tiles)\n",
    "car = Car(road_tiles[0],desired_speed=1)\n",
    "w = World(tiles=road_tiles,cars=[car])\n",
    "orig_direction = np.array(road_tiles[0].p_directions, copy=True)\n",
    "w.draw()\n",
    "# print(orig_direction)\n",
    "car.reset()\n",
    "car.move_to(road_tiles[1])\n",
    "dir_after_1 = np.array(road_tiles[0].p_directions, copy=True)\n",
    "car.reset()\n",
    "w.draw()\n",
    "car.move_to(road_tiles[2])\n",
    "w.draw()\n",
    "assert np.allclose(road_tiles[0].p_directions, orig_direction)"
   ]
  },
  {
   "cell_type": "code",
   "execution_count": null,
   "metadata": {},
   "outputs": [],
   "source": [
    "road_tiles[1]"
   ]
  },
  {
   "cell_type": "code",
   "execution_count": null,
   "metadata": {},
   "outputs": [],
   "source": [
    "print(\"Underlying probabilities:\",road_tiles[0].carless_directions)\n",
    "print(\"While car in tile:\",orig_direction)\n",
    "print(\"After car moves to north:\",dir_after_1)\n",
    "print(\"After car moves north again:\",road_tiles[0].p_directions)\n"
   ]
  },
  {
   "cell_type": "markdown",
   "metadata": {},
   "source": [
    "# Test: can we catch bad moves from the car"
   ]
  },
  {
   "cell_type": "code",
   "execution_count": null,
   "metadata": {},
   "outputs": [],
   "source": [
    "GRID_WIDTH = 5\n",
    "GRID_HEIGHT = 6\n",
    "road_tiles = []\n",
    "for i in range(0,GRID_WIDTH):\n",
    "    for j in range(0,GRID_HEIGHT):\n",
    "        if not ((j == 2 or j == 3) and i == 2):\n",
    "            road_tiles.append(Road(i,j,np.ones(9)/9))\n",
    "car = Car(road_tiles[0],desired_speed=1)\n",
    "w = World(tiles=road_tiles,cars=[car])\n",
    "try:\n",
    "    car.move_to(road_tiles[2])\n",
    "    raise ValueError(\"Car should not have been able to move there!\")\n",
    "except ValueError:\n",
    "    pass  # :)"
   ]
  },
  {
   "cell_type": "code",
   "execution_count": null,
   "metadata": {},
   "outputs": [],
   "source": []
  }
 ],
 "metadata": {
  "kernelspec": {
   "display_name": ".venv",
   "language": "python",
   "name": "python3"
  },
  "language_info": {
   "codemirror_mode": {
    "name": "ipython",
    "version": 3
   },
   "file_extension": ".py",
   "mimetype": "text/x-python",
   "name": "python",
   "nbconvert_exporter": "python",
   "pygments_lexer": "ipython3",
   "version": "3.12.0"
  }
 },
 "nbformat": 4,
 "nbformat_minor": 2
}

{
 "cells": [
  {
   "cell_type": "code",
   "execution_count": null,
   "metadata": {},
   "outputs": [],
   "source": [
    "import sys, os\n",
    "from os.path import join, dirname, abspath\n",
    "import matplotlib.pyplot as plt\n",
    "from matplotlib.pyplot import Figure, Axes\n",
    "import numpy as np\n",
    "import networkx as nx\n",
    "import matplotlib.animation as animation\n",
    "from mpl_toolkits.axes_grid1 import make_axes_locatable\n",
    "from directions import *\n",
    "from string import ascii_uppercase\n",
    "plt.rcParams.update({\n",
    "    \"text.usetex\": False,\n",
    "    \"ytick.minor.visible\":True,\n",
    "    \"xtick.minor.visible\":True,\n",
    "    'xtick.direction': \"in\",\n",
    "    'ytick.direction': \"in\"\n",
    "})\n",
    "outdir = \"out\"\n",
    "os.makedirs(outdir,exist_ok=True)\n",
    "def out(fname): return join(outdir,fname)\n",
    "def savefig(plot_name): \n",
    "    plt.savefig(out(plot_name),bbox_inches=\"tight\",dpi=250)\n",
    "    \n",
    "import pandas as pd\n",
    "from numpy.linalg import matrix_power, eig\n",
    "\n",
    "def arr_to_latex(M):\n",
    "    return '$$\\n' + r'\\begin{bmatrix}' + '\\n' + (r'\\\\' + '\\n').join('&'.join(str(x) for x in row) for row in M) + '\\n' + r'\\end{bmatrix}' + '\\n' +'$$'\n",
    "\n",
    "def vec_to_latex(x,round=3):\n",
    "    return '$$\\n' + r'\\begin{bmatrix}' + '\\n' + (r' \\\\ ').join(str(np.round(v,round)) for v in x) + '\\n' + r'\\end{bmatrix}' + '\\n' +'$$'"
   ]
  },
  {
   "cell_type": "code",
   "execution_count": null,
   "metadata": {},
   "outputs": [],
   "source": [
    "from car import Car\n",
    "from tiles import Road, Exit\n",
    "from world import World"
   ]
  },
  {
   "cell_type": "code",
   "execution_count": null,
   "metadata": {},
   "outputs": [],
   "source": [
    "GRID_WIDTH = 5\n",
    "GRID_HEIGHT = 6"
   ]
  },
  {
   "cell_type": "code",
   "execution_count": null,
   "metadata": {},
   "outputs": [],
   "source": [
    "road_tiles = []\n",
    "for i in range(0,GRID_WIDTH):\n",
    "    for j in range(0,GRID_HEIGHT):\n",
    "        if not ((j == 2 or j == 3) and i == 2):\n",
    "            road_tiles.append(Road(i,j,np.ones(9)/9))\n",
    "len(road_tiles)"
   ]
  },
  {
   "cell_type": "code",
   "execution_count": null,
   "metadata": {},
   "outputs": [],
   "source": [
    "car = Car(road_tiles[0],desired_speed=1)"
   ]
  },
  {
   "cell_type": "code",
   "execution_count": null,
   "metadata": {},
   "outputs": [],
   "source": [
    "w = World(tiles=road_tiles,cars=[car])\n",
    "w.draw()"
   ]
  },
  {
   "cell_type": "code",
   "execution_count": null,
   "metadata": {},
   "outputs": [],
   "source": [
    "w.do_simulation_step()\n",
    "w.draw()"
   ]
  },
  {
   "cell_type": "code",
   "execution_count": null,
   "metadata": {},
   "outputs": [],
   "source": [
    "car.reset()\n",
    "car.move_to(road_tiles[1])\n",
    "w.draw()\n",
    "car.reset()"
   ]
  },
  {
   "cell_type": "code",
   "execution_count": null,
   "metadata": {},
   "outputs": [],
   "source": [
    "car.move_to(road_tiles[2])\n",
    "w.draw()\n",
    "car.reset()"
   ]
  },
  {
   "cell_type": "code",
   "execution_count": null,
   "metadata": {},
   "outputs": [],
   "source": [
    "road_tiles[0].p_directions"
   ]
  },
  {
   "cell_type": "code",
   "execution_count": null,
   "metadata": {},
   "outputs": [],
   "source": [
    "np.sum(road_tiles[0].p_directions)"
   ]
  },
  {
   "cell_type": "code",
   "execution_count": null,
   "metadata": {},
   "outputs": [],
   "source": [
    "NUM_FRAMES = 10"
   ]
  },
  {
   "cell_type": "code",
   "execution_count": null,
   "metadata": {},
   "outputs": [],
   "source": [
    "fig, ax = plt.subplots()\n",
    "\n",
    "def update(frame):\n",
    "    ax.cla()\n",
    "    w.do_simulation_step()\n",
    "    w.draw(ax=ax)\n",
    "\n",
    "ani = animation.FuncAnimation(fig,update,frames=NUM_FRAMES,interval=500)\n",
    "ani.save(filename=out(\"driving.gif\"), writer=\"pillow\",dpi=150)"
   ]
  },
  {
   "cell_type": "code",
   "execution_count": null,
   "metadata": {},
   "outputs": [],
   "source": [
    "straight_road = []\n",
    "for i in range(10):\n",
    "    straight_road.append(Road(0,i,[0.9,0,0,0,0,0,0,0,0.1]))"
   ]
  },
  {
   "cell_type": "code",
   "execution_count": null,
   "metadata": {},
   "outputs": [],
   "source": [
    "car1 = Car(straight_road[1],1)\n",
    "car2 = Car(straight_road[0],2)"
   ]
  },
  {
   "cell_type": "code",
   "execution_count": null,
   "metadata": {},
   "outputs": [],
   "source": [
    "w = World(tiles=straight_road,cars=[car1,car2])"
   ]
  },
  {
   "cell_type": "code",
   "execution_count": null,
   "metadata": {},
   "outputs": [],
   "source": [
    "w.run(steps=10,draw=True,outpath=out(\"driving_straight.gif\"),markersize=10)"
   ]
  },
  {
   "cell_type": "code",
   "execution_count": null,
   "metadata": {},
   "outputs": [],
   "source": [
    "fig, ax = plt.subplots()\n",
    "\n",
    "def update(frame):\n",
    "    ax.cla()\n",
    "    w.do_simulation_step()\n",
    "    w.draw(ax=ax,markersize=10)\n",
    "\n",
    "ani = animation.FuncAnimation(fig,update,frames=NUM_FRAMES,interval=500)\n",
    "ani.save(filename=out(\"driving_straight.gif\"), writer=\"pillow\",dpi=150)"
   ]
  },
  {
   "cell_type": "code",
   "execution_count": null,
   "metadata": {},
   "outputs": [],
   "source": [
    "w.draw()"
   ]
  },
  {
   "cell_type": "code",
   "execution_count": null,
   "metadata": {},
   "outputs": [],
   "source": [
    "w.do_simulation_step()"
   ]
  },
  {
   "cell_type": "code",
   "execution_count": null,
   "metadata": {},
   "outputs": [],
   "source": [
    "w.draw(markersize=25)"
   ]
  },
  {
   "cell_type": "code",
   "execution_count": null,
   "metadata": {},
   "outputs": [],
   "source": [
    "intersection_tiles = []\n",
    "\n",
    "MAIN_X = 1\n",
    "\n",
    "intersection_tiles.append(Road(MAIN_X,0,NORTH))\n",
    "intersection_tiles.append(Road(MAIN_X,1,NORTH))\n",
    "intersection_tiles.append(Road(MAIN_X,2,(NORTH+EAST+WEST)/3))\n",
    "\n",
    "intersection_tiles.append(Road(MAIN_X+1,2,NORTH))\n",
    "intersection_tiles.append(Road(MAIN_X+1,3,NORTH))\n",
    "intersection_tiles.append(Road(MAIN_X+1,4,NORTH))\n",
    "intersection_tiles.append(Road(MAIN_X+1,5,NORTH))\n",
    "intersection_tiles.append(Road(MAIN_X+1,6,NORTH))\n",
    "\n",
    "intersection_tiles.append(Road(MAIN_X-1,2,NORTH))\n",
    "intersection_tiles.append(Road(MAIN_X-1,3,NORTH))\n",
    "intersection_tiles.append(Road(MAIN_X-1,4,NORTH))\n",
    "intersection_tiles.append(Road(MAIN_X-1,5,NORTH))\n",
    "intersection_tiles.append(Road(MAIN_X-1,6,NORTH))\n",
    "\n",
    "\n",
    "\n",
    "intersection = World(tiles=intersection_tiles,cars=[])\n",
    "intersection.draw(markersize=25)"
   ]
  },
  {
   "cell_type": "code",
   "execution_count": null,
   "metadata": {},
   "outputs": [],
   "source": [
    "car = Car(tile=intersection_tiles[0],desired_speed=1)\n",
    "intersection.add_car(car)"
   ]
  },
  {
   "cell_type": "code",
   "execution_count": null,
   "metadata": {},
   "outputs": [],
   "source": [
    "intersection.draw()"
   ]
  },
  {
   "cell_type": "code",
   "execution_count": null,
   "metadata": {},
   "outputs": [],
   "source": [
    "intersection.run(10,True,out(\"intersection.gif\"),markersize=5)"
   ]
  },
  {
   "cell_type": "code",
   "execution_count": null,
   "metadata": {},
   "outputs": [],
   "source": [
    "s = []\n",
    "s.append(Road(6,0,(NW+N+NE)/3))\n",
    "s.append(Exit(14,0))\n",
    "s.append(Road(5,1,NW))\n",
    "s.append(Road(6,1,N))\n",
    "s.append(Road(7,1,NE))\n",
    "s.append(Road(13,1,SE))\n",
    "s.append(Road(4,2,NW))\n",
    "s.append(Road(6,2,N))\n",
    "s.append(Road(8,2,(N+E)/2))\n",
    "s.append(Road(9,2,E))\n",
    "s.append(Road(10,2,E))\n",
    "s.append(Road(11,2,E))\n",
    "s.append(Road(12,2,(N+SE)/2))\n",
    "s.append(Road(3,3,NW))\n",
    "s.append(Road(6,3,E))\n",
    "s.append(Road(7,3,E))\n",
    "s.append(Road(8,3,N))\n",
    "s.append(Road(12,3,N))\n",
    "s.append(Road(13,3,SW))\n",
    "s.append(Road(2,4,NW))\n",
    "s.append(Road(6,4,S))\n",
    "s.append(Road(8,4,N))\n",
    "s.append(Road(12,4,N))\n",
    "s.append(Road(14,4,SW))\n",
    "s.append(Road(1,5,NW))\n",
    "s.append(Road(6,5,S))\n",
    "s.append(Road(8,5,N))\n",
    "s.append(Road(12,5,N))\n",
    "s.append(Road(15,5,SW))\n",
    "s.append(Road(0,6,N))\n",
    "s.append(Road(1,6,W))\n",
    "s.append(Road(2,6,W))\n",
    "s.append(Road(3,6,W))\n",
    "s.append(Road(4,6,W))\n",
    "s.append(Road(5,6,W))\n",
    "s.append(Road(6,6,(W+S)/2))\n",
    "s.append(Road(8,6,N))\n",
    "s.append(Road(12,6,N))\n",
    "s.append(Road(16,6,SW))\n",
    "s.append(Road(0,7,N))\n",
    "s.append(Road(6,7,S))\n",
    "s.append(Road(8,7,N))\n",
    "s.append(Road(12,7,N))\n",
    "s.append(Road(16,7,S))\n",
    "s.append(Road(0,8,N))\n",
    "s.append(Road(6,8,S))\n",
    "s.append(Road(8,8,N))\n",
    "s.append(Exit(12,8))\n",
    "s.append(Road(15,8,SE))\n",
    "s.append(Road(0,9,N))\n",
    "s.append(Road(6,9,S))\n",
    "s.append(Road(8,9,N))\n",
    "s.append(Road(14,9,SE))\n",
    "s.append(Road(0,10,(N+E)/2))\n",
    "s.append(Road(1,10,E))\n",
    "s.append(Road(2,10,E))\n",
    "s.append(Road(3,10,E))\n",
    "s.append(Road(4,10,E))\n",
    "s.append(Road(5,10,E))\n",
    "s.append(Road(6,10,S))\n",
    "s.append(Road(8,10,N))\n",
    "s.append(Road(13,10,SE))\n",
    "s.append(Road(0,11,N))\n",
    "s.append(Road(3,11,S))\n",
    "s.append(Road(6,11,S))\n",
    "s.append(Road(8,11,NE))\n",
    "s.append(Road(12,11,SE))\n",
    "s.append(Road(0,12,N))\n",
    "s.append(Road(3,12,S))\n",
    "s.append(Road(6,12,S))\n",
    "s.append(Road(9,12,NE))\n",
    "s.append(Road(11,12,SE))\n",
    "s.append(Road(0,13,N))\n",
    "s.append(Road(3,13,(S+NW)/2))\n",
    "s.append(Road(4,13,W))\n",
    "s.append(Road(5,13,W))\n",
    "s.append(Road(6,13,(S+W)/2))\n",
    "s.append(Road(7,13,W))\n",
    "s.append(Road(8,13,W))\n",
    "s.append(Road(9,13,W))\n",
    "s.append(Road(10,13,(W+E+SE)/3))\n",
    "s.append(Road(11,13,E))\n",
    "s.append(Road(12,13,E))\n",
    "s.append(Road(13,13,E))\n",
    "s.append(Road(14,13,E))\n",
    "s.append(Road(15,13,N))\n",
    "s.append(Road(0,14,E))\n",
    "s.append(Road(1,14,E))\n",
    "s.append(Road(2,14,N))\n",
    "s.append(Road(15,14,N))\n",
    "s.append(Road(2,15,N))\n",
    "s.append(Road(15,15,N))\n",
    "s.append(Road(2,16,N))\n",
    "s.append(Road(15,16,N))\n",
    "s.append(Exit(2,17))\n",
    "s.append(Road(3,17,W))\n",
    "s.append(Road(4,17,W))\n",
    "s.append(Road(5,17,W))\n",
    "s.append(Road(6,17,W))\n",
    "s.append(Road(7,17,W))\n",
    "s.append(Road(8,17,W))\n",
    "s.append(Road(9,17,W))\n",
    "s.append(Road(10,17,W))\n",
    "s.append(Road(11,17,W))\n",
    "s.append(Road(12,17,W))\n",
    "s.append(Road(13,17,W))\n",
    "s.append(Road(14,17,W))\n",
    "s.append(Road(15,17,W))\n",
    "\n",
    "\n",
    "w = World(tiles=s, cars=[])\n",
    "w.draw(markersize=5)\n"
   ]
  },
  {
   "cell_type": "code",
   "execution_count": null,
   "metadata": {},
   "outputs": [],
   "source": [
    "c=Car(s[0],desired_speed=5)\n",
    "w.add_car(c)\n",
    "w.run(100,draw=True,outpath=out(\"highway.gif\"),markersize=5)"
   ]
  },
  {
   "cell_type": "code",
   "execution_count": null,
   "metadata": {},
   "outputs": [],
   "source": []
  }
 ],
 "metadata": {
  "kernelspec": {
   "display_name": ".venv",
   "language": "python",
   "name": "python3"
  },
  "language_info": {
   "codemirror_mode": {
    "name": "ipython",
    "version": 3
   },
   "file_extension": ".py",
   "mimetype": "text/x-python",
   "name": "python",
   "nbconvert_exporter": "python",
   "pygments_lexer": "ipython3",
   "version": "3.12.0"
  }
 },
 "nbformat": 4,
 "nbformat_minor": 2
}

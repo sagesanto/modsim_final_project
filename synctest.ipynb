{
 "cells": [
  {
   "cell_type": "code",
   "execution_count": null,
   "metadata": {},
   "outputs": [],
   "source": [
    "import sys, os\n",
    "from os.path import join, dirname, abspath\n",
    "import matplotlib.pyplot as plt\n",
    "from matplotlib.pyplot import Figure, Axes\n",
    "import numpy as np\n",
    "import networkx as nx\n",
    "import matplotlib.animation as animation\n",
    "from mpl_toolkits.axes_grid1 import make_axes_locatable\n",
    "from directions import *\n",
    "from string import ascii_uppercase\n",
    "plt.rcParams.update({\n",
    "    \"text.usetex\": False,\n",
    "    \"ytick.minor.visible\":False,\n",
    "    \"xtick.minor.visible\":False,\n",
    "    'xtick.direction': \"in\",\n",
    "    'ytick.direction': \"in\"\n",
    "})\n",
    "\n",
    "outdir = \"out\"\n",
    "os.makedirs(outdir,exist_ok=True)\n",
    "def out(fname): return join(outdir,fname)\n",
    "def savefig(plot_name): \n",
    "    plt.savefig(out(plot_name),bbox_inches=\"tight\",dpi=250)\n",
    "    \n",
    "import pandas as pd\n",
    "from numpy.linalg import matrix_power, eig\n",
    "\n",
    "def arr_to_latex(M):\n",
    "    return '$$\\n' + r'\\begin{bmatrix}' + '\\n' + (r'\\\\' + '\\n').join('&'.join(str(x) for x in row) for row in M) + '\\n' + r'\\end{bmatrix}' + '\\n' +'$$'\n",
    "\n",
    "def vec_to_latex(x,round=3):\n",
    "    return '$$\\n' + r'\\begin{bmatrix}' + '\\n' + (r' \\\\ ').join(str(np.round(v,round)) for v in x) + '\\n' + r'\\end{bmatrix}' + '\\n' +'$$'\n",
    "\n",
    "from car import Car\n",
    "from tiles import Road, Exit, Onramp\n",
    "from world import World\n",
    "from traffic_signals import Stoplight"
   ]
  },
  {
   "cell_type": "code",
   "execution_count": null,
   "metadata": {},
   "outputs": [],
   "source": [
    "def run_test_of_offset(offset):\n",
    "    offset = int(np.round(offset))\n",
    "    straight = [Onramp(0,2,E)]\n",
    "    for i in range(19):\n",
    "        straight.append(Road(i+1,2,E))\n",
    "    straight[-1]=Exit(i,2,E)\n",
    "    w = World(tiles=straight, cars=[])\n",
    "    w.add_stoplight(Stoplight(w.tiles[8,2],direction=6,period=10,offset=offset))\n",
    "    w.add_stoplight(Stoplight(w.tiles[3,2],direction=6,period=10))\n",
    "    mean_car_exit_rate = []\n",
    "    for i in range(5):\n",
    "        w.run(500,draw=False)\n",
    "        exit = straight[-1]\n",
    "        ncars = []\n",
    "        for _, cars in exit.exited.items():\n",
    "            ncars.append(len(cars))\n",
    "        mean_car_exit_rate.append(np.mean(ncars))\n",
    "        w.reset()\n",
    "    return 1/np.mean(mean_car_exit_rate)"
   ]
  },
  {
   "cell_type": "code",
   "execution_count": null,
   "metadata": {},
   "outputs": [],
   "source": [
    "run_test_of_offset(5)"
   ]
  },
  {
   "cell_type": "code",
   "execution_count": null,
   "metadata": {},
   "outputs": [],
   "source": [
    "straight1 = [Onramp(0,2,E)]\n",
    "for i in range(19):\n",
    "    straight1.append(Road(i+1,2,E))\n",
    "straight1[-1]=Exit(i,2,E)\n",
    "\n",
    "straight2 = [Onramp(0,0,E)]\n",
    "for i in range(19):\n",
    "    straight2.append(Road(i+1,0,E))\n",
    "straight2[-1]=Exit(i,0,E)\n",
    "\n",
    "w = World(tiles=straight1+straight2,cars=[])\n",
    "\n",
    "w.add_stoplight(Stoplight(w.tiles[8,2],direction=6,period=10,offset=5))\n",
    "w.add_stoplight(Stoplight(w.tiles[3,2],direction=6,period=10))\n",
    "\n",
    "w.add_stoplight(Stoplight(w.tiles[3,0],direction=6,period=10))\n",
    "w.add_stoplight(Stoplight(w.tiles[8,0],direction=6,period=10))\n",
    "w.draw(markersize=10)"
   ]
  },
  {
   "cell_type": "code",
   "execution_count": null,
   "metadata": {},
   "outputs": [],
   "source": [
    "w.run(100,draw=True,outpath=out(\"synctest.gif\"),markersize=10)"
   ]
  },
  {
   "cell_type": "code",
   "execution_count": null,
   "metadata": {},
   "outputs": [],
   "source": [
    "nums = []\n",
    "ts = []\n",
    "for t, packet in enumerate(w.car_info_packets):\n",
    "    car_locs = np.zeros((w.max_y+1,w.max_x+1))\n",
    "    car_locs[packet[:,2],packet[:,1]] = 1\n",
    "    num_cars = np.sum(car_locs[:,:])\n",
    "    nums.append(num_cars)\n",
    "    ts.append(t)\n",
    "plt.plot(ts,nums)\n",
    "plt.title(\"Traffic in Intermediate Stretch\")\n",
    "plt.xlabel(\"t\")\n",
    "plt.ylabel(\"Cars in stretch\")\n",
    "savefig(\"traffic_in_synctest.png\")"
   ]
  },
  {
   "cell_type": "code",
   "execution_count": null,
   "metadata": {},
   "outputs": [],
   "source": [
    "exit = straight[-1]\n",
    "ts, ncars = [0], [0]\n",
    "for t, cars in exit.exited.items():\n",
    "    ts.append(t)\n",
    "    ncars.append(ncars[-1]+len(cars))\n",
    "\n",
    "plt.plot(ts,ncars)"
   ]
  },
  {
   "cell_type": "code",
   "execution_count": null,
   "metadata": {},
   "outputs": [],
   "source": [
    "exit.exited.items()"
   ]
  },
  {
   "cell_type": "code",
   "execution_count": null,
   "metadata": {},
   "outputs": [],
   "source": [
    "# straight3 = [Onramp(0,0,E)]\n",
    "# for i in range(19):\n",
    "#     straight2.append(Road(i+1,0,E))\n",
    "# straight3[-1]=Exit(i,0,E)\n",
    "# w2 = World(tiles=straight2,cars=[])\n",
    "# w2.add_stoplight(Stoplight(w2.tiles[3,0],direction=6,period=10))\n",
    "# w2.add_stoplight(Stoplight(w2.tiles[8,0],direction=6,period=10))\n",
    "# w2.draw(markersize=10)"
   ]
  },
  {
   "cell_type": "code",
   "execution_count": null,
   "metadata": {},
   "outputs": [],
   "source": [
    "# w2.run(1000,draw=False,markersize=10)"
   ]
  },
  {
   "cell_type": "code",
   "execution_count": null,
   "metadata": {},
   "outputs": [],
   "source": [
    "exit1 = straight1[-1]\n",
    "ts1, ncars1 = [0], [0]\n",
    "for t, cars in exit1.exited.items():\n",
    "    ts1.append(t)\n",
    "    ncars1.append(ncars1[-1]+len(cars))\n",
    "\n",
    "ts2, ncars2 = [0], [0]\n",
    "exit2 = straight2[-1]\n",
    "for t, cars in exit2.exited.items():\n",
    "    ts2.append(t)\n",
    "    ncars2.append(ncars2[-1]+len(cars))\n",
    "\n",
    "plt.plot(ts1,ncars1)\n",
    "plt.plot(ts2,ncars2)\n",
    "plt.title(\"Cars Exiting\")\n",
    "plt.xlabel(\"t\")\n",
    "plt.ylabel(\"NCars\")\n",
    "savefig(\"synctest_traffic.png\")"
   ]
  },
  {
   "cell_type": "code",
   "execution_count": null,
   "metadata": {},
   "outputs": [],
   "source": [
    "plt.plot(ts1,np.array(ncars1)-np.array(ncars2))"
   ]
  }
 ],
 "metadata": {
  "kernelspec": {
   "display_name": ".venv",
   "language": "python",
   "name": "python3"
  },
  "language_info": {
   "codemirror_mode": {
    "name": "ipython",
    "version": 3
   },
   "file_extension": ".py",
   "mimetype": "text/x-python",
   "name": "python",
   "nbconvert_exporter": "python",
   "pygments_lexer": "ipython3",
   "version": "3.12.0"
  }
 },
 "nbformat": 4,
 "nbformat_minor": 2
}

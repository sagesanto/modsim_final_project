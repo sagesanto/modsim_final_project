{
 "cells": [
  {
   "cell_type": "code",
   "execution_count": null,
   "metadata": {},
   "outputs": [],
   "source": [
    "import sys, os\n",
    "from os.path import join, dirname, abspath\n",
    "import matplotlib.pyplot as plt\n",
    "from matplotlib.pyplot import Figure, Axes\n",
    "import numpy as np\n",
    "from numpy import array as arr\n",
    "import networkx as nx\n",
    "import matplotlib.animation as animation\n",
    "from mpl_toolkits.axes_grid1 import make_axes_locatable\n",
    "from directions import *\n",
    "from string import ascii_uppercase\n",
    "plt.rcParams.update({\n",
    "    \"text.usetex\": False,\n",
    "    \"ytick.minor.visible\":True,\n",
    "    \"xtick.minor.visible\":True,\n",
    "    'xtick.direction': \"in\",\n",
    "    'ytick.direction': \"in\"\n",
    "})\n",
    "outdir = \"claremont\"\n",
    "os.makedirs(outdir,exist_ok=True)\n",
    "def out(fname): return join(outdir,fname)\n",
    "def savefig(plot_name): \n",
    "    plt.savefig(out(plot_name),bbox_inches=\"tight\",dpi=250)\n",
    "    \n",
    "import pandas as pd\n",
    "from numpy.linalg import matrix_power, eig\n",
    "\n",
    "def arr_to_latex(M):\n",
    "    return '$$\\n' + r'\\begin{bmatrix}' + '\\n' + (r'\\\\' + '\\n').join('&'.join(str(round(x,3)) for x in row) for row in M) + '\\n' + r'\\end{bmatrix}' + '\\n' +'$$'\n",
    "\n",
    "def vec_to_latex(x,round=3):\n",
    "    return '$$\\n' + r'\\begin{bmatrix}' + '\\n' + (r' \\\\ ').join(str(np.round(v,round)) for v in x) + '\\n' + r'\\end{bmatrix}' + '\\n' +'$$'\n",
    "\n",
    "from car import Car\n",
    "from tiles import Road, Exit, Onramp\n",
    "from world import World, Choice, Route\n",
    "from traffic_signals import Stoplight"
   ]
  },
  {
   "cell_type": "code",
   "execution_count": null,
   "metadata": {},
   "outputs": [],
   "source": [
    "EW_CAPACITY = 104\n",
    "WE_CAPACITY = 103\n",
    "NS_CAPACITY = 46\n",
    "SN_CAPACITY = 47\n",
    "\n",
    "capacities = [EW_CAPACITY,WE_CAPACITY,NS_CAPACITY,SN_CAPACITY]"
   ]
  },
  {
   "cell_type": "code",
   "execution_count": null,
   "metadata": {},
   "outputs": [],
   "source": [
    "TIMESTEPS_PER_SECOND = 1/( 2 * 10 / 88)  # 1 / 2 tiles/timestep * 10ft/tile * 1 second/88ft (60mph)\n",
    "TIMESTEPS_PER_SECOND"
   ]
  },
  {
   "cell_type": "code",
   "execution_count": null,
   "metadata": {},
   "outputs": [],
   "source": [
    "1/4.4"
   ]
  },
  {
   "cell_type": "code",
   "execution_count": null,
   "metadata": {},
   "outputs": [],
   "source": [
    "30/10 / TIMESTEPS_PER_SECOND"
   ]
  },
  {
   "cell_type": "code",
   "execution_count": null,
   "metadata": {},
   "outputs": [],
   "source": [
    "inflow = pd.DataFrame(data=[\"Westbound\",\"Eastbound\",\"Northbound\",\"Southbound\"],columns=[\"Direction\"])\n",
    "inflow[\"Cars per 10 Seconds\"] = [30,50,25,15]\n",
    "inflow[\"Cars per timestep\"] = np.round(inflow[\"Cars per 10 Seconds\"]/10 / TIMESTEPS_PER_SECOND,3)\n",
    "inflow[\"Number of Onramps\"] = [2,2,1,1]\n",
    "inflow[\"Onramp Period\"] = np.round(1/inflow[\"Cars per timestep\"]) * inflow[\"Number of Onramps\"]\n",
    "inflow.to_csv(out(\"inflow.csv\"))\n",
    "inflow"
   ]
  },
  {
   "cell_type": "markdown",
   "metadata": {},
   "source": [
    "<img src=\"turning_proportions.png\"> "
   ]
  },
  {
   "cell_type": "code",
   "execution_count": null,
   "metadata": {},
   "outputs": [],
   "source": [
    "EW_ONRAMP_PERIOD, WE_ONRAMP_PERIOD, SN_ONRAMP_PERIOD, NS_ONRAMP_PERIOD = list(inflow[\"Onramp Period\"])"
   ]
  },
  {
   "cell_type": "code",
   "execution_count": null,
   "metadata": {},
   "outputs": [],
   "source": [
    "# TURN RATES\n",
    "# north to south\n",
    "L_NS = 0.5   # fraction of n->s cars that go left  \n",
    "R_NS = 0.25 # fraction of n->s cars that go right\n",
    "# STRAIGHT_NS = 1 - (L_NS+R_NS)\n",
    "\n",
    "# south to north\n",
    "L_SN = 0.5   # fraction of s->n cars that go left  \n",
    "R_SN = 0.25 # fraction of s->n cars that go right\n",
    "# STRAIGHT_SN = 1 - (L_SN+R_SN)\n",
    "\n",
    "L_EW = 0.15  # fraction of e->w cars that go left  \n",
    "R_EW = 0.1 # fraction of e->w cars that go right\n",
    "# STRAIGHT_EW = 1 - (L_EW+R_EW)\n",
    "\n",
    "L_WE = 0.15   # fraction of w->e cars that go left  \n",
    "R_WE = 0.1 # fraction of w->e cars that go right\n",
    "# STRAIGHT_WE = 1 - (L_WE+R_WE)"
   ]
  },
  {
   "cell_type": "code",
   "execution_count": null,
   "metadata": {},
   "outputs": [],
   "source": [
    "H_INROAD_LEN=50\n",
    "V_INROAD_LEN=16\n",
    "OUTROAD_LEN=50\n",
    "\n",
    "# center of the map\n",
    "X, Y = H_INROAD_LEN+2,H_INROAD_LEN+2\n",
    "\n",
    "# axis limits when zooming into the intersection (for display purposes)\n",
    "XLIMS = (X-12,X+12)\n",
    "YLIMS = (Y-12,Y+13)\n",
    "\n",
    "TIGHT_XLIMS = (X-6,X+6)\n",
    "TIGHT_YLIMS = (Y-6,Y+6)"
   ]
  },
  {
   "cell_type": "code",
   "execution_count": null,
   "metadata": {},
   "outputs": [],
   "source": [
    "R66_SPEED_LIMIT = 2\n",
    "IH_SPEED_LIMIT = 1\n",
    "INTERSECTION_SPEED_LIMIT = 2"
   ]
  },
  {
   "cell_type": "code",
   "execution_count": null,
   "metadata": {},
   "outputs": [],
   "source": [
    "# indian hill: north-south single-lane, 50 car capacity\n",
    "# route 66: east-west double lane, 100 car capacity in each direction\n",
    "\n",
    "r66 = []\n",
    "indian_hill = []\n",
    "\n",
    "EW_R_IN = (X+2,Y+3)\n",
    "EW_TS_IN = (X+2,Y+2)\n",
    "EW_BS_IN = (X+2,Y+1)\n",
    "EW_L_IN = (X+2,Y)\n",
    "\n",
    "EW_TS_OUT = (X-3,Y+2)\n",
    "EW_BS_OUT = (X-3,Y+1)\n",
    "\n",
    "WE_L_IN = (X-2,Y)\n",
    "WE_TS_IN = (X-2,Y-1)\n",
    "WE_BS_IN = (X-2,Y-2)\n",
    "\n",
    "WE_TS_OUT = (X+3,Y-1)\n",
    "WE_BS_OUT = (X+3,Y-2)\n",
    "\n",
    "NS_S_IN = (X-1,Y+3)\n",
    "NS_R_IN = (X-2,Y+3)\n",
    "NS_L_IN = (X,Y+3)\n",
    "\n",
    "NS_S_OUT = (X-1,Y-3)\n",
    "\n",
    "SN_S_IN = (X+1,Y-2)\n",
    "SN_R_IN = (X+2,Y-2)\n",
    "SN_L_IN = (X,Y-2)\n",
    "\n",
    "SN_S_OUT = (X+1,Y+4)\n",
    "\n",
    "INT_BOUNDS = np.array([X,Y]) + np.array([[-2,-2],[+3,+4]])  # exclusive on upper right edge\n",
    "\n",
    "x = np.arange(*INT_BOUNDS[:,0])\n",
    "y = np.arange(*INT_BOUNDS[:,1])\n",
    "gx,gy = np.meshgrid(x,y)\n",
    "intersection_points = [tuple(a) for a in np.array(list(zip(gx.flatten(),gy.flatten())))]\n",
    "\n",
    "WE_TS_ONRAMP_LOC = (WE_TS_IN[0]-(H_INROAD_LEN-1),WE_TS_IN[1])\n",
    "WE_BS_ONRAMP_LOC = (WE_BS_IN[0]-(H_INROAD_LEN-1),WE_BS_IN[1])\n",
    "EW_TS_ONRAMP_LOC = (EW_TS_IN[0]+(H_INROAD_LEN-2),EW_TS_IN[1])\n",
    "EW_BS_ONRAMP_LOC = (EW_BS_IN[0]+(H_INROAD_LEN-2),EW_BS_IN[1])\n",
    "NS_ONRAMP_LOC = (NS_S_IN[0],NS_S_IN[1]+(V_INROAD_LEN+1))\n",
    "SN_ONRAMP_LOC = (SN_S_IN[0],SN_S_IN[1]-(V_INROAD_LEN+1))\n",
    "\n",
    "onramp_points = [WE_TS_ONRAMP_LOC,WE_BS_ONRAMP_LOC,EW_TS_ONRAMP_LOC,EW_BS_ONRAMP_LOC,NS_ONRAMP_LOC,SN_ONRAMP_LOC]\n",
    "\n",
    "EW_R_LNCHNG = (EW_TS_IN[0]+6,EW_TS_IN[1])\n",
    "EW_L_LNCHNG = (EW_BS_IN[0]+6,EW_BS_IN[1])\n",
    "\n",
    "WE_L_LNCHNG = (WE_TS_IN[0]-6,WE_TS_IN[1])\n",
    "\n",
    "SN_LR_LNCHNG = (SN_S_IN[0],SN_S_IN[1]-V_INROAD_LEN)\n",
    "NS_LR_LNCHNG = (NS_S_IN[0],NS_S_IN[1]+V_INROAD_LEN)\n",
    "\n",
    "lane_change_points = [EW_R_LNCHNG,EW_L_LNCHNG,WE_L_LNCHNG,SN_LR_LNCHNG,NS_LR_LNCHNG]\n",
    "\n",
    "forbidden_points = onramp_points + intersection_points + lane_change_points\n",
    "\n",
    "for x in range(X-H_INROAD_LEN, X + OUTROAD_LEN):\n",
    "    for y,direction in zip([EW_TS_IN[1],EW_BS_IN[1],WE_TS_IN[1],WE_BS_IN[1]],[WEST,WEST,EAST,EAST]):\n",
    "        if (x,y) not in forbidden_points:\n",
    "            r66.append(Road(x,y,direction,speed_limit=R66_SPEED_LIMIT))\n",
    "\n",
    "for y in range(Y-(V_INROAD_LEN+2), Y+V_INROAD_LEN+3):\n",
    "    for x, direction in zip([SN_S_IN[0],NS_S_IN[0]],[NORTH,SOUTH]):\n",
    "        if (x,y) not in forbidden_points:\n",
    "            print(x,y)\n",
    "            indian_hill.append(Road(x,y,direction,speed_limit=IH_SPEED_LIMIT))\n",
    "\n",
    "# west-to-east left turn lane\n",
    "for x in range(WE_L_LNCHNG[0]+1,WE_L_IN[0]):\n",
    "    y = WE_L_IN[1]\n",
    "    # print(x-X,y-Y)\n",
    "    print(x,y)\n",
    "    r66.append(Road(x,y,EAST,speed_limit=R66_SPEED_LIMIT))\n",
    "r66.append(Road(*WE_L_LNCHNG,(2*L_WE*NORTHEAST + (1-2*L_WE)*EAST),speed_limit=R66_SPEED_LIMIT))\n",
    "\n",
    "# e-w left and right turn lanes\n",
    "for x in range(EW_L_IN[0]+1,EW_L_LNCHNG[0]):\n",
    "    r66.append(Road(x,EW_L_IN[1],WEST,speed_limit=R66_SPEED_LIMIT))\n",
    "    r66.append(Road(x,EW_R_IN[1],WEST,speed_limit=R66_SPEED_LIMIT))\n",
    "r66.append(Road(*EW_L_LNCHNG,2*L_EW*SOUTHWEST+(1-2*L_EW)*WEST,speed_limit=R66_SPEED_LIMIT))\n",
    "r66.append(Road(*EW_R_LNCHNG,2*R_EW*NORTHWEST+(1-2*R_EW)*WEST,speed_limit=R66_SPEED_LIMIT))\n",
    "\n",
    "# n-s left and right turn lanes\n",
    "for y in range(NS_L_IN[1]+1,NS_LR_LNCHNG[1]):\n",
    "    # print((NS_L_IN[0],y),(NS_R_IN[0],y))\n",
    "    r66.append(Road(NS_L_IN[0],y,SOUTH,speed_limit=IH_SPEED_LIMIT))\n",
    "    r66.append(Road(NS_R_IN[0],y,SOUTH,speed_limit=IH_SPEED_LIMIT))\n",
    "r66.append(Road(*NS_LR_LNCHNG,(L_NS*SOUTHEAST+R_NS*SOUTHWEST+(1-(L_NS+R_NS))*SOUTH),speed_limit=IH_SPEED_LIMIT))\n",
    "\n",
    "# s-n left and right turn lanes\n",
    "for y in range(SN_LR_LNCHNG[1]+1,SN_L_IN[1]):\n",
    "    # print((SN_L_IN[0],y),(NS_R_IN[0],y))\n",
    "    r66.append(Road(SN_L_IN[0],y, NORTH,speed_limit=IH_SPEED_LIMIT))\n",
    "    r66.append(Road(SN_R_IN[0],y, NORTH,speed_limit=IH_SPEED_LIMIT))\n",
    "r66.append(Road(*SN_LR_LNCHNG,(L_SN*NORTHWEST+R_SN*NORTHEAST+(1-(L_SN+R_SN))*NORTH),speed_limit=IH_SPEED_LIMIT))\n",
    "\n",
    "\n",
    "for i in intersection_points:\n",
    "    r66.append(Road(i[0],i[1],np.ones(9)/9,speed_limit=R66_SPEED_LIMIT))\n",
    "\n",
    "# onramps\n",
    "ew_b_onramp = Onramp(*EW_BS_ONRAMP_LOC,WEST,car_period=EW_ONRAMP_PERIOD,speed_limit=R66_SPEED_LIMIT,avg_speed=10*R66_SPEED_LIMIT+1)\n",
    "ew_t_onramp = Onramp(*EW_TS_ONRAMP_LOC,WEST,car_period=EW_ONRAMP_PERIOD,speed_limit=R66_SPEED_LIMIT,avg_speed=10*R66_SPEED_LIMIT+1)\n",
    "we_b_onramp = Onramp(*WE_BS_ONRAMP_LOC,EAST,car_period=WE_ONRAMP_PERIOD,speed_limit=R66_SPEED_LIMIT,avg_speed=10*R66_SPEED_LIMIT+1)\n",
    "we_t_onramp = Onramp(*WE_TS_ONRAMP_LOC,EAST,car_period=WE_ONRAMP_PERIOD,speed_limit=R66_SPEED_LIMIT,avg_speed=10*R66_SPEED_LIMIT+1)\n",
    "\n",
    "ns_onramp = Onramp(*NS_ONRAMP_LOC,SOUTH,car_period=NS_ONRAMP_PERIOD,speed_limit=IH_SPEED_LIMIT,avg_speed=10*IH_SPEED_LIMIT+1)\n",
    "sn_onramp = Onramp(*SN_ONRAMP_LOC,NORTH,car_period=SN_ONRAMP_PERIOD,speed_limit=IH_SPEED_LIMIT,avg_speed=10*IH_SPEED_LIMIT+1)\n",
    "\n",
    "onramps = [ew_b_onramp,ew_t_onramp,we_b_onramp,we_t_onramp,ns_onramp,sn_onramp]\n",
    "r66 += onramps\n",
    "\n",
    "# exits\n",
    "we_b_exit = Exit(X+OUTROAD_LEN,WE_BS_IN[1],EAST) \n",
    "print(X+OUTROAD_LEN,WE_BS_IN[1])\n",
    "\n",
    "we_t_exit = Exit(X+OUTROAD_LEN,WE_TS_IN[1],EAST) \n",
    "print(X+OUTROAD_LEN,WE_TS_IN[1])\n",
    "\n",
    "ew_b_exit = Exit(X-(OUTROAD_LEN+1),EW_BS_IN[1],WEST)\n",
    "print(X-(OUTROAD_LEN+2),EW_BS_IN[1])\n",
    "\n",
    "ew_t_exit = Exit(X-(OUTROAD_LEN+1),EW_TS_IN[1],WEST)\n",
    "print(X-(OUTROAD_LEN+2),EW_TS_IN[1])\n",
    "\n",
    "sn_exit = Exit(SN_S_IN[0],Y+(V_INROAD_LEN+3),SOUTH)\n",
    "ns_exit = Exit(NS_S_IN[0],Y-(V_INROAD_LEN+3),NORTH)\n",
    "\n",
    "exits = [ew_b_exit,ew_t_exit,we_b_exit,we_t_exit, sn_exit, ns_exit]\n",
    "r66 += exits\n",
    "\n",
    "w = World(r66+indian_hill,cars=[])\n",
    "\n",
    "w.draw(markersize=10,xlims=XLIMS,ylims=YLIMS)\n",
    "_=w.draw(markersize=10)"
   ]
  },
  {
   "cell_type": "code",
   "execution_count": null,
   "metadata": {},
   "outputs": [],
   "source": [
    "_=w.draw(markersize=10,xlims=(X-(OUTROAD_LEN+5),X-(OUTROAD_LEN-2)),ylims=(Y-3,Y+3),show=False)\n",
    "plt.title(\"E-W Exits + W-E Onramps\")"
   ]
  },
  {
   "cell_type": "code",
   "execution_count": null,
   "metadata": {},
   "outputs": [],
   "source": [
    "_=w.draw(markersize=10,xlims=(X-5,X+5),ylims=(NS_LR_LNCHNG[1]-7,NS_LR_LNCHNG[1]+3),show=False)\n",
    "plt.title(\"N-S Lanechange\")"
   ]
  },
  {
   "cell_type": "code",
   "execution_count": null,
   "metadata": {},
   "outputs": [],
   "source": [
    "_=w.draw(markersize=10,xlims=(X-5,X+5),ylims=(SN_LR_LNCHNG[1]-3,SN_LR_LNCHNG[1]+7),show=False)\n",
    "plt.title(\"S-N Lanechange\")"
   ]
  },
  {
   "cell_type": "code",
   "execution_count": null,
   "metadata": {},
   "outputs": [],
   "source": [
    "_=w.draw(markersize=10,xlims=(X+(OUTROAD_LEN+5),X+(OUTROAD_LEN-2)),ylims=(Y-3,Y+3),show=False)\n",
    "plt.title(\"W-E Exits + E-W Onramps\")"
   ]
  },
  {
   "cell_type": "code",
   "execution_count": null,
   "metadata": {},
   "outputs": [],
   "source": [
    "_=w.draw(markersize=10,xlims=(X-3,X+3),ylims=(Y-(OUTROAD_LEN+3),Y-(OUTROAD_LEN-3)),show=False)\n",
    "plt.title(\"N-S Exit + S-N Onramp\")"
   ]
  },
  {
   "cell_type": "code",
   "execution_count": null,
   "metadata": {},
   "outputs": [],
   "source": [
    "_=w.draw(markersize=10,xlims=(X-3,X+3),ylims=(X+(OUTROAD_LEN+3),X+(OUTROAD_LEN-3)),show=False)\n",
    "plt.title(\"S-N Exit + N-S Onramp\")"
   ]
  },
  {
   "cell_type": "markdown",
   "metadata": {},
   "source": [
    "### Horizontal Routes"
   ]
  },
  {
   "cell_type": "code",
   "execution_count": null,
   "metadata": {},
   "outputs": [],
   "source": [
    "os.makedirs(out(\"routes\"),exist_ok=True)"
   ]
  },
  {
   "cell_type": "code",
   "execution_count": null,
   "metadata": {},
   "outputs": [],
   "source": [
    "w.reset()"
   ]
  },
  {
   "cell_type": "code",
   "execution_count": null,
   "metadata": {},
   "outputs": [],
   "source": [
    "r_ew_ts = Route(w[EW_TS_OUT[0]:EW_TS_IN[0]+1,EW_TS_IN[1]][::-1])  # e-w top lane, straight\n",
    "r_ew_l = Route([w[EW_L_IN],w[X+1,Y],w[X,Y-1],w[X-1,Y-2],w[NS_S_OUT]]) # e-w top lane, left  (will break if change layout)\n",
    "r_ew_bs = Route(w[EW_BS_OUT[0]:EW_BS_IN[0]+1,EW_BS_IN[1]][::-1])  # e-w top lane, straight\n",
    "r_ew_r = Route(list(w[SN_S_OUT[0]:EW_R_IN[0]+1,EW_R_IN[1]][::-1])+[w[SN_S_OUT]]) # e-w bottom lane, right\n",
    "\n",
    "\n",
    "r_we_ts = Route(w[WE_TS_IN[0]:WE_TS_OUT[0]+1,WE_TS_IN[1]])\n",
    "r_we_bs = Route(w[WE_BS_IN[0]:WE_BS_OUT[0]+1,WE_BS_IN[1]])\n",
    "r_we_r = Route(list(w[WE_BS_IN[0]:NS_S_OUT[0]+1,WE_BS_IN[1]])+[w[NS_S_OUT]])\n",
    "r_we_l = Route([w[WE_L_IN],w[X-1,Y+1],w[X,Y+2],w[X+1,Y+3],w[SN_S_OUT]])\n"
   ]
  },
  {
   "cell_type": "code",
   "execution_count": null,
   "metadata": {},
   "outputs": [],
   "source": [
    "ROUTE_LINEWIDTH = 3\n",
    "ROUTE_ALPHA = 1"
   ]
  },
  {
   "cell_type": "code",
   "execution_count": null,
   "metadata": {},
   "outputs": [],
   "source": [
    "fig,ax = plt.subplots()\n",
    "w.draw(markersize=10, ax=ax,show=False,xlims=TIGHT_XLIMS,ylims=TIGHT_YLIMS,c=\"black\",alpha=0.05)\n",
    "plt.title(\"Eastbound and Westbound Routes\")\n",
    "# plt.xlim(center_x-5,center_x+5)\n",
    "# plt.ylim(center_y-5,center_y+5)\n",
    "r_ew_ts.draw(ax=ax,color=\"green\",alpha=ROUTE_ALPHA,linewidth=ROUTE_LINEWIDTH)\n",
    "r_ew_l.draw(ax=ax,color=\"blue\",alpha=ROUTE_ALPHA,linewidth=ROUTE_LINEWIDTH)\n",
    "r_ew_bs.draw(ax=ax,color=\"green\",alpha=ROUTE_ALPHA,linewidth=ROUTE_LINEWIDTH)\n",
    "r_ew_r.draw(ax=ax,color=\"red\",alpha=ROUTE_ALPHA,linewidth=ROUTE_LINEWIDTH)\n",
    "\n",
    "r_we_ts.draw(ax=ax,color=\"green\",alpha=ROUTE_ALPHA,linewidth=ROUTE_LINEWIDTH)\n",
    "r_we_bs.draw(ax=ax,color=\"green\",alpha=ROUTE_ALPHA,linewidth=ROUTE_LINEWIDTH)\n",
    "r_we_l.draw(ax=ax,color=\"blue\",alpha=ROUTE_ALPHA,linewidth=ROUTE_LINEWIDTH)\n",
    "r_we_r.draw(ax=ax,color=\"red\",alpha=ROUTE_ALPHA,linewidth=ROUTE_LINEWIDTH)\n",
    "savefig(join(\"routes\",\"horizontal.png\"))"
   ]
  },
  {
   "cell_type": "markdown",
   "metadata": {},
   "source": [
    "### Vertical Routes"
   ]
  },
  {
   "cell_type": "code",
   "execution_count": null,
   "metadata": {},
   "outputs": [],
   "source": [
    "r_ns_s = Route(w[NS_S_IN[0],NS_S_OUT[1]:NS_S_IN[1]+1][::-1]) # n-s straight\n",
    "r_ns_r = Route(list(w[NS_R_IN[0],EW_TS_OUT[1]:NS_R_IN[1]+1][::-1])+[w[EW_TS_OUT]]) # n-s right\n",
    "r_ns_l = Route(list(w[NS_L_IN[0],NS_L_IN[1]-2:NS_L_IN[1]+1][::-1])+[w[X+1,Y]]+list(w[X+2:WE_TS_OUT[0]+1,Y-1]))\n",
    "# r_ns_l = Route(list(w.tiles[X,Y:Y+3][::-1])+list(w.tiles[X+1:X+5,Y])) # n-s left\n",
    "\n",
    "r_sn_s = Route(w[SN_S_IN[0],SN_S_IN[1]:SN_S_OUT[1]+1])\n",
    "r_sn_r = Route([w[SN_R_IN],w[WE_BS_OUT]])\n",
    "r_sn_l = Route(list(w[SN_L_IN[0],SN_L_IN[1]:SN_L_IN[1]+2])+[w[X-1,Y],w[X-2,Y+1],w[EW_BS_OUT]])"
   ]
  },
  {
   "cell_type": "code",
   "execution_count": null,
   "metadata": {},
   "outputs": [],
   "source": [
    "routes = [r_ns_s,r_ns_r,r_ns_l,r_sn_s,r_sn_r,r_sn_l,r_ew_ts,r_ew_l,r_ew_bs,r_ew_r,r_we_ts,r_we_bs,r_we_r,r_we_l]"
   ]
  },
  {
   "cell_type": "code",
   "execution_count": null,
   "metadata": {},
   "outputs": [],
   "source": [
    "w.reset()\n",
    "fig,ax = plt.subplots()\n",
    "w.draw(markersize=10, ax=ax,show=False,xlims=TIGHT_XLIMS,ylims=TIGHT_YLIMS,c=\"black\",alpha=0.05)\n",
    "plt.title(\"Northbound and Southbound Routes\")\n",
    "r_ns_s.draw(ax=ax,color=\"green\",alpha=ROUTE_ALPHA,linewidth=ROUTE_LINEWIDTH)\n",
    "r_ns_r.draw(ax=ax,color=\"red\",alpha=ROUTE_ALPHA,linewidth=ROUTE_LINEWIDTH)\n",
    "r_ns_l.draw(ax=ax,color=\"blue\",alpha=ROUTE_ALPHA,linewidth=ROUTE_LINEWIDTH)\n",
    "\n",
    "r_sn_s.draw(ax=ax,color=\"green\",alpha=ROUTE_ALPHA,linewidth=ROUTE_LINEWIDTH)\n",
    "r_sn_r.draw(ax=ax,color=\"red\",alpha=ROUTE_ALPHA,linewidth=ROUTE_LINEWIDTH)\n",
    "r_sn_l.draw(ax=ax,color=\"blue\",alpha=ROUTE_ALPHA,linewidth=ROUTE_LINEWIDTH)\n",
    "savefig(join(\"routes\",\"vertical.png\"))"
   ]
  },
  {
   "cell_type": "code",
   "execution_count": null,
   "metadata": {},
   "outputs": [],
   "source": [
    "# add route choices\n",
    "w[EW_L_IN[0]+1,EW_L_IN[1]].add_choice(Choice([r_ew_l],[1]))\n",
    "w[EW_TS_IN[0]+1,EW_TS_IN[1]].add_choice(Choice([r_ew_ts],[1]))\n",
    "w[EW_BS_IN[0]+1,EW_BS_IN[1]].add_choice(Choice([r_ew_bs],[1]))\n",
    "w[EW_R_IN[0]+1,EW_R_IN[1]].add_choice(Choice([r_ew_r],[1]))\n",
    "\n",
    "w[WE_L_IN[0]-1,WE_L_IN[1]].add_choice(Choice([r_we_l],[1]))\n",
    "w[WE_TS_IN[0]-1,WE_TS_IN[1]].add_choice(Choice([r_we_ts],[1]))\n",
    "w[WE_BS_IN[0]-1,WE_BS_IN[1]].add_choice(Choice([r_we_r,r_we_bs],[2*R_WE,1-2*R_WE]))\n",
    "\n",
    "w[NS_S_IN[0],NS_S_IN[1]+1].add_choice(Choice([r_ns_s],[1]))\n",
    "w[NS_L_IN[0],NS_L_IN[1]+1].add_choice(Choice([r_ns_l],[1]))\n",
    "w[NS_R_IN[0],NS_R_IN[1]+1].add_choice(Choice([r_ns_r],[1]))\n",
    "\n",
    "w[SN_S_IN[0],SN_S_IN[1]-1].add_choice(Choice([r_sn_s],[1]))\n",
    "w[SN_L_IN[0],SN_L_IN[1]-1].add_choice(Choice([r_sn_l],[1]))\n",
    "w[SN_R_IN[0],SN_R_IN[1]-1].add_choice(Choice([r_sn_r],[1]))"
   ]
  },
  {
   "cell_type": "code",
   "execution_count": null,
   "metadata": {},
   "outputs": [],
   "source": []
  },
  {
   "cell_type": "markdown",
   "metadata": {},
   "source": [
    "## Unidirectional Tests"
   ]
  },
  {
   "cell_type": "markdown",
   "metadata": {},
   "source": [
    "### Test One: E-W"
   ]
  },
  {
   "cell_type": "code",
   "execution_count": null,
   "metadata": {},
   "outputs": [],
   "source": [
    "for o in onramps:\n",
    "    o.disable()\n",
    "ew_t_onramp.enable()\n",
    "ew_b_onramp.enable()\n",
    "w.reset()\n",
    "w.run(100,draw=True,outpath=out(\"ew_test.gif\",),xlims=XLIMS,ylims=YLIMS,markersize=10,c=\"black\")"
   ]
  },
  {
   "cell_type": "code",
   "execution_count": null,
   "metadata": {},
   "outputs": [],
   "source": [
    "n_ew_t_s = np.sum([len(a) for a in ew_t_exit.exited.values()])\n",
    "n_ew_t_l = np.sum([len(a) for a in sn_exit.exited.values()])"
   ]
  },
  {
   "cell_type": "code",
   "execution_count": null,
   "metadata": {},
   "outputs": [],
   "source": [
    "n_ew_t_l, n_ew_t_s"
   ]
  },
  {
   "cell_type": "markdown",
   "metadata": {},
   "source": [
    "### Test: W-E"
   ]
  },
  {
   "cell_type": "code",
   "execution_count": null,
   "metadata": {},
   "outputs": [],
   "source": [
    "w.reset()\n",
    "for o in onramps:\n",
    "    o.disable()\n",
    "we_t_onramp.enable()\n",
    "we_b_onramp.enable()\n",
    "w.run(100,draw=True,outpath=out(\"we_test.gif\",),xlims=XLIMS,ylims=YLIMS,markersize=10,c=\"black\")"
   ]
  },
  {
   "cell_type": "markdown",
   "metadata": {},
   "source": [
    "### Test: N-S"
   ]
  },
  {
   "cell_type": "code",
   "execution_count": null,
   "metadata": {},
   "outputs": [],
   "source": [
    "w.reset()\n",
    "for o in onramps:\n",
    "    o.disable()\n",
    "ns_onramp.enable()\n",
    "w.run(100,draw=True,outpath=out(\"ns_test.gif\",),xlims=XLIMS,ylims=YLIMS,markersize=10,c=\"black\")"
   ]
  },
  {
   "cell_type": "markdown",
   "metadata": {},
   "source": [
    "### Test: S-N"
   ]
  },
  {
   "cell_type": "code",
   "execution_count": null,
   "metadata": {},
   "outputs": [],
   "source": [
    "w.reset()\n",
    "for o in onramps:\n",
    "    o.disable()\n",
    "sn_onramp.enable()\n",
    "w.run(100,draw=True,outpath=out(\"sn_test.gif\",),xlims=XLIMS,ylims=YLIMS,markersize=10,c=\"black\")"
   ]
  },
  {
   "cell_type": "markdown",
   "metadata": {},
   "source": [
    "# All"
   ]
  },
  {
   "cell_type": "markdown",
   "metadata": {},
   "source": [
    "### Stoplights"
   ]
  },
  {
   "cell_type": "code",
   "execution_count": null,
   "metadata": {},
   "outputs": [],
   "source": [
    "w.reset()   \n",
    "for o in onramps:\n",
    "    o.enable()"
   ]
  },
  {
   "cell_type": "code",
   "execution_count": null,
   "metadata": {},
   "outputs": [],
   "source": [
    "STOPLIGHT_PERIOD = int((2*60) * TIMESTEPS_PER_SECOND)  # 2 minutes\n",
    "\n",
    "print(f\"Stoplight period: {STOPLIGHT_PERIOD/TIMESTEPS_PER_SECOND}s ({STOPLIGHT_PERIOD} timesteps)\")\n",
    "\n",
    "\n",
    "DELAY_AFTER_LEFT = 5\n",
    "DELAY_AFTER_STRAIGHT = 5\n",
    "\n",
    "LEFT_STRAIGHT_RATIO_VERT = 1\n",
    "# LEFT_STRAIGHT_RATIO_VERT = 2* np.max([L_NS,L_SN]) / (1 - np.max([L_NS,L_SN]))\n",
    "LEFT_STRAIGHT_RATIO_HORIZ = 1\n",
    "# LEFT_STRAIGHT_RATIO_HORIZ = 2*np.max([L_EW,L_WE]) / (1 - np.max([L_EW,L_WE]))\n",
    "\n",
    "# straight-right (on:half-P) ratio\n",
    "SR_RATIO_VERT = (1-2*(DELAY_AFTER_LEFT+DELAY_AFTER_STRAIGHT)/STOPLIGHT_PERIOD) / (1+LEFT_STRAIGHT_RATIO_VERT)\n",
    "SR_RATIO_HORIZ = (1-2*(DELAY_AFTER_LEFT+DELAY_AFTER_STRAIGHT)/STOPLIGHT_PERIOD) / (1+LEFT_STRAIGHT_RATIO_HORIZ)\n",
    "\n",
    "L_RATIO_VERT = LEFT_STRAIGHT_RATIO_VERT*SR_RATIO_VERT\n",
    "L_RATIO_HORIZ = LEFT_STRAIGHT_RATIO_HORIZ*SR_RATIO_HORIZ\n",
    "\n",
    "L1_VERTICAL_OFFSET = STOPLIGHT_PERIOD/2\n",
    "# L1_VERTICAL_OFFSET = STOPLIGHT_PERIOD/2\n",
    "SR1_VERTICAL_OFFSET = L1_VERTICAL_OFFSET + DELAY_AFTER_LEFT + L_RATIO_VERT*STOPLIGHT_PERIOD/2\n",
    "\n",
    "L1_HORIZONTAL_OFFSET = 0\n",
    "SR1_HORIZONTAL_OFFSET = L1_HORIZONTAL_OFFSET + DELAY_AFTER_LEFT + L_RATIO_HORIZ*STOPLIGHT_PERIOD/2\n",
    "\n",
    "# SR2_HORIZONTAL_OFFSET = \n",
    "# L2_HORIZONTAL_OFFSET = \n"
   ]
  },
  {
   "cell_type": "code",
   "execution_count": null,
   "metadata": {},
   "outputs": [],
   "source": [
    "ns_s_light = Stoplight(w.tiles[NS_S_IN[0],NS_S_IN[1]],direction=0,offset=SR1_VERTICAL_OFFSET,period=STOPLIGHT_PERIOD,on_to_half_p_ratio=SR_RATIO_VERT, name=\"N-S S\") \n",
    "ns_r_light = Stoplight(w.tiles[NS_R_IN[0],NS_R_IN[1]],direction=0,offset=SR1_VERTICAL_OFFSET,period=STOPLIGHT_PERIOD,on_to_half_p_ratio=SR_RATIO_VERT, name=\"N-S R\") \n",
    "ns_l_light = Stoplight(w.tiles[NS_L_IN[0],NS_L_IN[1]],direction=0,offset=L1_VERTICAL_OFFSET,period=STOPLIGHT_PERIOD,on_to_half_p_ratio=L_RATIO_VERT, name=\"N-S L\")\n",
    "\n",
    "ew_ts_light = Stoplight(w.tiles[EW_TS_IN[0],EW_TS_IN[1]],direction=2,offset=SR1_HORIZONTAL_OFFSET,period=STOPLIGHT_PERIOD,on_to_half_p_ratio=SR_RATIO_HORIZ, name=\"Straight\") \n",
    "ew_bs_light = Stoplight(w.tiles[EW_BS_IN[0],EW_BS_IN[1]],direction=2,offset=SR1_HORIZONTAL_OFFSET,period=STOPLIGHT_PERIOD,on_to_half_p_ratio=SR_RATIO_HORIZ, name=\"E-W TS\") \n",
    "ew_r_light = Stoplight(w.tiles[EW_R_IN[0],EW_R_IN[1]],direction=2,offset=SR1_HORIZONTAL_OFFSET,period=STOPLIGHT_PERIOD,on_to_half_p_ratio=SR_RATIO_HORIZ, name=\"Right\") \n",
    "ew_l_light = Stoplight(w.tiles[EW_L_IN[0],EW_L_IN[1]],direction=2,offset=L1_HORIZONTAL_OFFSET,period=STOPLIGHT_PERIOD,on_to_half_p_ratio=L_RATIO_HORIZ, name=\"Left\")\n",
    "\n",
    "we_ts_light = Stoplight(w.tiles[WE_TS_IN[0],WE_TS_IN[1]],direction=6,offset=SR1_HORIZONTAL_OFFSET,period=STOPLIGHT_PERIOD,on_to_half_p_ratio=SR_RATIO_HORIZ, name=\"Straight\") \n",
    "we_bs_light = Stoplight(w.tiles[WE_BS_IN[0],WE_BS_IN[1]],direction=6,offset=SR1_HORIZONTAL_OFFSET,period=STOPLIGHT_PERIOD,on_to_half_p_ratio=SR_RATIO_HORIZ, name=\"Right\") \n",
    "we_l_light = Stoplight(w.tiles[WE_L_IN[0],WE_L_IN[1]],direction=6,offset=L1_HORIZONTAL_OFFSET,period=STOPLIGHT_PERIOD,on_to_half_p_ratio=L_RATIO_HORIZ, name=\"Left\")\n",
    "\n",
    "sn_s_light = Stoplight(w.tiles[SN_S_IN[0],SN_S_IN[1]],direction=4,offset=SR1_VERTICAL_OFFSET,period=STOPLIGHT_PERIOD,on_to_half_p_ratio=SR_RATIO_VERT, name=\"S-N S\") \n",
    "sn_r_light = Stoplight(w.tiles[SN_R_IN[0],SN_R_IN[1]],direction=4,offset=SR1_VERTICAL_OFFSET,period=STOPLIGHT_PERIOD,on_to_half_p_ratio=SR_RATIO_VERT, name=\"S-N R\") \n",
    "sn_l_light = Stoplight(w.tiles[SN_L_IN[0],SN_L_IN[1]],direction=4,offset=L1_VERTICAL_OFFSET,period=STOPLIGHT_PERIOD,on_to_half_p_ratio=L_RATIO_VERT, name=\"S-N L\")\n",
    "\n",
    "\n",
    "\n",
    "w.signaller.stoplights = []\n",
    "ns_stoplights = [ns_s_light,ns_l_light,ns_r_light]\n",
    "# ew_stoplights = [ew_ts_light,ew_l_light,ew_r_light]\n",
    "ew_stoplights = [ew_ts_light,ew_l_light,ew_r_light,ew_bs_light]\n",
    "we_stoplights = [we_ts_light,we_l_light,we_bs_light]\n",
    "sn_stoplights = [sn_s_light,sn_l_light,sn_r_light]\n",
    "\n",
    "stoplights = ns_stoplights + ew_stoplights + we_stoplights + sn_stoplights\n",
    "# stoplights = [ns_light,sn_light,ew_t_light,ew_b_light,we_t_light,we_b_light]"
   ]
  },
  {
   "cell_type": "code",
   "execution_count": null,
   "metadata": {},
   "outputs": [],
   "source": [
    "[w.add_stoplight(s) for s in stoplights]"
   ]
  },
  {
   "cell_type": "code",
   "execution_count": null,
   "metadata": {},
   "outputs": [],
   "source": [
    "w.reset()\n",
    "w.draw(markersize=10,xlims=XLIMS,ylims=YLIMS,c=\"black\",show=False)\n",
    "plt.title(\"Indian Hill - R66 Intersection\")\n",
    "savefig(\"intersection.png\")"
   ]
  },
  {
   "cell_type": "markdown",
   "metadata": {},
   "source": [
    "### The below cell is supposed to be run with only three E-W stoplights:"
   ]
  },
  {
   "cell_type": "code",
   "execution_count": null,
   "metadata": {},
   "outputs": [],
   "source": [
    "fig,axes = plt.subplots(ncols=1,nrows=3)\n",
    "t= np.linspace(0,STOPLIGHT_PERIOD,num=1000)\n",
    "lines = {}\n",
    "axes = axes.flatten()\n",
    "for s, ax in zip(ns_stoplights,axes):\n",
    "    points_south = s.direction==4\n",
    "    f = np.vectorize(s.update_func)\n",
    "    l = ax.plot(t,f(t),c=\"tab:blue\",linestyle=\"dashed\")\n",
    "    # l = ax.plot(t,f(t),c=\"tab:blue\" if points_south else \"tab:orange\",linestyle=\"dashed\" if points_south else \"dotted\")\n",
    "    lines[s.direction] = l[0]\n",
    "    ax.set_yticks([0,1],[\"Stop\",\"Go\"])\n",
    "    if s.name is not None:\n",
    "        pass\n",
    "        # ax.set_title(s.name,fontsize=\"small\",loc=\"left\")\n",
    "    ylims = ax.get_ylim() \n",
    "    ax.axvline(L1_VERTICAL_OFFSET+STOPLIGHT_PERIOD/2,*ylims,linestyle=\"dashed\",color=\"tab:red\")\n",
    "    ax.fill_between([L1_VERTICAL_OFFSET+L_RATIO_VERT*STOPLIGHT_PERIOD/2,L1_VERTICAL_OFFSET+L_RATIO_VERT*STOPLIGHT_PERIOD/2+DELAY_AFTER_LEFT],*ylims,linestyle=\"dashed\",color=\"tab:red\",alpha=0.1)\n",
    "    ax.fill_between([L1_VERTICAL_OFFSET+STOPLIGHT_PERIOD/2-DELAY_AFTER_STRAIGHT,L1_VERTICAL_OFFSET+STOPLIGHT_PERIOD/2],*ylims,linestyle=\"dashed\",color=\"tab:red\",alpha=0.1)\n",
    "    ax.set_ylim(*ylims)\n",
    "    ax.fill_between(t,f(t),color=\"green\",alpha=0.25)\n",
    "\n",
    "for s, ax in zip(we_stoplights,axes):\n",
    "    # points_south = s.direction==4\n",
    "    f = np.vectorize(s.update_func)\n",
    "    l = ax.plot(t,f(t),c=\"tab:blue\",linestyle=\"dashed\")\n",
    "    # l = ax.plot(t,f(t),c=\"tab:blue\" if points_south else \"tab:orange\",linestyle=\"dashed\" if points_south else \"dotted\")\n",
    "    lines[s.direction] = l[0]\n",
    "    ax.set_yticks([0,1],[\"Stop\",\"Go\"])\n",
    "    if s.name is not None:\n",
    "        ax.set_title(s.name,fontsize=\"small\")\n",
    "        # ax.set_title(s.name,fontsize=\"small\",loc=\"left\")\n",
    "    ylims = ax.get_ylim() \n",
    "    ax.axvline(L1_HORIZONTAL_OFFSET+STOPLIGHT_PERIOD/2,*ylims,linestyle=\"dashed\",color=\"tab:red\")\n",
    "    ax.fill_between([L1_HORIZONTAL_OFFSET+L_RATIO_HORIZ*STOPLIGHT_PERIOD/2,L1_HORIZONTAL_OFFSET+L_RATIO_HORIZ*STOPLIGHT_PERIOD/2+DELAY_AFTER_LEFT],*ylims,linestyle=\"dashed\",color=\"tab:red\",alpha=0.1)\n",
    "    ax.fill_between([L1_HORIZONTAL_OFFSET+STOPLIGHT_PERIOD/2-DELAY_AFTER_STRAIGHT,L1_HORIZONTAL_OFFSET+STOPLIGHT_PERIOD/2],*ylims,linestyle=\"dashed\",color=\"tab:red\",alpha=0.1)\n",
    "    ax.set_ylim(*ylims)\n",
    "    ax.fill_between(t,f(t),color=\"green\",alpha=0.25)\n",
    "\n",
    "\n",
    "for a in axes[:-1]:\n",
    "    a.set_xticks([])\n",
    "axes[-1].set_xlabel(\"t\")\n",
    "# _=axes[0].set_title(\"Stoplight States\")\n",
    "plt.suptitle(f\"Stoplight States, $P$={STOPLIGHT_PERIOD} ({np.round(STOPLIGHT_PERIOD/TIMESTEPS_PER_SECOND,1)}s)\")\n",
    "\n",
    "# plt.legend(handles=[lines[4],lines[6]],labels=[\"South\",\"East\"])\n",
    "savefig(\"signal_states.png\")"
   ]
  },
  {
   "cell_type": "code",
   "execution_count": null,
   "metadata": {},
   "outputs": [],
   "source": [
    "fig,axes = plt.subplots(ncols=1,nrows=len(w.signaller.stoplights))\n",
    "fig.tight_layout()\n",
    "t= np.linspace(0,STOPLIGHT_PERIOD,num=1000)\n",
    "lines = {}\n",
    "axes = axes.flatten()\n",
    "for s, ax in zip(w.signaller.stoplights,axes):\n",
    "    points_south = s.direction==4\n",
    "    f = np.vectorize(s.update_func)\n",
    "    l = ax.plot(t,f(t),c=\"tab:blue\",linestyle=\"dashed\")\n",
    "    # l = ax.plot(t,f(t),c=\"tab:blue\" if points_south else \"tab:orange\",linestyle=\"dashed\" if points_south else \"dotted\")\n",
    "    lines[s.direction] = l[0]\n",
    "    ax.set_yticks([0,1],[\"Stop\",\"Go\"])\n",
    "    if s.name is not None:\n",
    "        ax.set_title(s.name,fontsize=\"small\",loc=\"left\")\n",
    "    ylims = ax.get_ylim() \n",
    "    ax.axvline(STOPLIGHT_PERIOD/2,*ylims,linestyle=\"dashed\")\n",
    "    # ax.fill_between([L_RATIO*STOPLIGHT_PERIOD/2,L_RATIO*STOPLIGHT_PERIOD/2+DELAY_AFTER_LEFT],*ylims,linestyle=\"dashed\",color=\"tab:red\",alpha=0.1)\n",
    "    # ax.fill_between([STOPLIGHT_PERIOD/2-DELAY_AFTER_LEFT,STOPLIGHT_PERIOD/2],*ylims,linestyle=\"dashed\",color=\"tab:red\",alpha=0.1)\n",
    "    ax.set_ylim(*ylims)\n",
    "    ax.fill_between(t,f(t),color=\"green\",alpha=0.25)\n",
    "\n",
    "for a in axes[:-1]:\n",
    "    a.set_xticks([])\n",
    "axes[-1].set_xlabel(\"t\")\n",
    "# _=axes[0].set_title(\"Stoplight States\")\n",
    "plt.suptitle(\"Stoplight States\")\n",
    "# plt.legend(handles=[lines[4],lines[6]],labels=[\"South\",\"East\"])\n",
    "# savefig(\"signal_states.png\")"
   ]
  },
  {
   "cell_type": "code",
   "execution_count": null,
   "metadata": {},
   "outputs": [],
   "source": [
    "# w.reset()\n",
    "\n",
    "# for o in onramps:\n",
    "#     o.disable()\n",
    "\n",
    "# for o in [ew_b_onramp,ew_t_onramp,ns_onramp]:\n",
    "#     o.enable()\n",
    "\n",
    "# w.run(100,draw=True,outpath=out(\"ns_ew.gif\"),markersize=10,xlims=XLIMS,ylims=YLIMS,c=\"black\")"
   ]
  },
  {
   "cell_type": "code",
   "execution_count": null,
   "metadata": {},
   "outputs": [],
   "source": [
    "# w.reset()\n",
    "\n",
    "# for o in onramps:\n",
    "#     o.enable()\n",
    "# w.run(15,draw=False)\n",
    "# w.run(100,draw=True,outpath=out(\"all.gif\"),markersize=10,xlims=XLIMS,ylims=YLIMS,c=\"black\")"
   ]
  },
  {
   "cell_type": "code",
   "execution_count": null,
   "metadata": {},
   "outputs": [],
   "source": [
    "runtime = STOPLIGHT_PERIOD * 10"
   ]
  },
  {
   "cell_type": "code",
   "execution_count": null,
   "metadata": {},
   "outputs": [],
   "source": [
    "w.reset()\n",
    "w.run(runtime,draw=False)"
   ]
  },
  {
   "cell_type": "code",
   "execution_count": null,
   "metadata": {},
   "outputs": [],
   "source": [
    "_=w.draw(markersize=10,xlims=XLIMS,ylims=YLIMS,c=\"black\")"
   ]
  },
  {
   "cell_type": "code",
   "execution_count": null,
   "metadata": {},
   "outputs": [],
   "source": [
    "num_ew_ts = np.sum([len(a) for a in ew_t_exit.exited.values()])\n",
    "num_ew_bs = np.sum([len(a) for a in ew_b_exit.exited.values()])\n",
    "num_we_ts = np.sum([len(a) for a in we_t_exit.exited.values()])\n",
    "num_we_bs = np.sum([len(a) for a in we_b_exit.exited.values()])\n",
    "num_ns = np.sum([len(a) for a in ns_exit.exited.values()])\n",
    "num_sn = np.sum([len(a) for a in sn_exit.exited.values()])\n",
    "\n",
    "\n",
    "# n_ew_t_l = np.sum([len(a) for a in sn_exit.exited.values()])"
   ]
  },
  {
   "cell_type": "code",
   "execution_count": null,
   "metadata": {},
   "outputs": [],
   "source": [
    "plt.bar([\"EW\",\"WE\", \"SN\", \"NS\"],[num_ew_bs+num_ew_ts,num_we_bs+num_we_ts,num_sn,num_ns])\n",
    "plt.title(\"Cars Exited by Direction\")\n",
    "plt.ylabel(\"Number of Cars Exited\")\n",
    "plt.xlabel(\"Direction\")\n",
    "# savefig(\"cars_exited_10000.png\")"
   ]
  },
  {
   "cell_type": "code",
   "execution_count": null,
   "metadata": {},
   "outputs": [],
   "source": [
    "plt.bar([\"EW B\",\"EW T\",\"WE B\", \"WE T\", \"SN\", \"NS\"],np.array([np.sum([len(a) for a in e.exited.values()]) for e in exits])/runtime*TIMESTEPS_PER_SECOND)\n",
    "# n_ew_t_s = np.sum([len(a) for a in ew_t_exit.exited.values()])\n",
    "# n_ew_t_l = np.sum([len(a) for a in sn_exit.exited.values()])"
   ]
  },
  {
   "cell_type": "code",
   "execution_count": null,
   "metadata": {},
   "outputs": [],
   "source": [
    "plt.bar([\"EW B\",\"EW T\",\"WE B\", \"WE T\", \"SN\", \"NS\"],[np.sum([len(a) for a in e.exited.values()]) for e in exits])"
   ]
  },
  {
   "cell_type": "code",
   "execution_count": null,
   "metadata": {},
   "outputs": [],
   "source": [
    "traffic_dirname = f\"{LEFT_STRAIGHT_RATIO_VERT}_{LEFT_STRAIGHT_RATIO_HORIZ}_{STOPLIGHT_PERIOD}_timestep_period\"\n",
    "os.makedirs(out(traffic_dirname),exist_ok=True)\n",
    "traffic_dirname"
   ]
  },
  {
   "cell_type": "code",
   "execution_count": null,
   "metadata": {},
   "outputs": [],
   "source": [
    "traffic_zones = {}\n",
    "\n",
    "ew_traffic_zones = {}\n",
    "for inlane, onramp, name, stoplight in [(EW_TS_IN,ew_b_onramp,\"Upper Straight\",ew_bs_light), \n",
    "                                        (EW_BS_IN,ew_t_onramp,\"Lower Straight\",ew_ts_light),\n",
    "                                        (EW_L_IN,ew_b_onramp,\"Left\",ew_l_light),\n",
    "                                        (EW_R_IN,ew_b_onramp,\"Right\",ew_r_light)]:\n",
    "    start = min(inlane[0],onramp.x)\n",
    "    end = max(inlane[0],onramp.x)\n",
    "    ew_traffic_zones[name] = (np.array([[x,inlane[1]] for x in np.arange(start,end)]), stoplight)\n",
    "    \n",
    "we_traffic_zones = {}\n",
    "for inlane, onramp, name, stoplight in [(WE_TS_IN,we_b_onramp,\"Upper Straight\",we_bs_light), \n",
    "                                        (WE_BS_IN,we_t_onramp,\"Lower Straight/Right\",we_ts_light),\n",
    "                                        (WE_L_IN,we_b_onramp,\"Left\",we_l_light)]:\n",
    "    start = min(inlane[0],onramp.x)\n",
    "    end = max(inlane[0],onramp.x)\n",
    "    we_traffic_zones[name] = (np.array([[x,inlane[1]] for x in np.arange(start,end)]), stoplight)\n",
    "\n",
    "\n",
    "ns_traffic_zones = {}\n",
    "for inlane, onramp, name, stoplight in [(NS_S_IN,ns_onramp,\"Straight\",ns_s_light), \n",
    "                                        (NS_L_IN,ns_onramp,\"Left\",ns_l_light),\n",
    "                                        (NS_R_IN,ns_onramp,\"Right\",ns_r_light)]:\n",
    "    start = min(inlane[1],onramp.y)\n",
    "    end = max(inlane[1],onramp.y)\n",
    "    ns_traffic_zones[name] = (np.array([[inlane[0],y] for y in np.arange(start,end)]), stoplight)\n",
    "\n",
    "sn_traffic_zones = {}\n",
    "for inlane, onramp, name, stoplight in [(SN_S_IN,sn_onramp,\"Straight\",sn_s_light), \n",
    "                                        (SN_L_IN,sn_onramp,\"Left\",sn_l_light),\n",
    "                                        (SN_R_IN,sn_onramp,\"Right\",sn_r_light)]:\n",
    "    start = min(inlane[1],onramp.y)\n",
    "    end = max(inlane[1],onramp.y)\n",
    "    sn_traffic_zones[name] = (np.array([[inlane[0],y] for y in np.arange(start,end)]), stoplight)\n",
    "\n",
    "traffic_zones[\"E-W\"] = ew_traffic_zones\n",
    "traffic_zones[\"W-E\"] = we_traffic_zones\n",
    "traffic_zones[\"N-S\"] = ns_traffic_zones\n",
    "traffic_zones[\"S-N\"] = sn_traffic_zones"
   ]
  },
  {
   "cell_type": "code",
   "execution_count": null,
   "metadata": {},
   "outputs": [],
   "source": [
    "cum_nums = {n:[] for n in traffic_zones.keys()}\n",
    "\n",
    "for direction_name, traffic_zone in traffic_zones.items():\n",
    "    fig, axes = plt.subplots(ncols=1, nrows=len(traffic_zone))\n",
    "    fig.tight_layout()\n",
    "    for (name, (coordinates_of_interest,s)), ax in zip(traffic_zone.items(),axes): \n",
    "        nums = []\n",
    "        ts = []\n",
    "        for t, packet in enumerate(w.car_info_packets):\n",
    "            num_cars = 0\n",
    "            if len(packet):\n",
    "                try:\n",
    "                    car_locs = np.zeros((w.max_y+1,w.max_x+1))\n",
    "                    car_locs[packet[:,2],packet[:,1]] = 1\n",
    "                    num_cars = np.sum(car_locs[coordinates_of_interest[:,1],coordinates_of_interest[:,0]])\n",
    "                except Exception as e:\n",
    "                    print(packet)\n",
    "                    print(t)\n",
    "                    raise e\n",
    "            nums.append(num_cars)\n",
    "            ts.append(t / TIMESTEPS_PER_SECOND)\n",
    "        ax.plot(ts,nums)\n",
    "        cum_nums[direction_name].append(nums)\n",
    "        ax.set_title(name,fontsize=\"small\")\n",
    "        ax.set_ylabel(\"Cars in stretch\")\n",
    "        ylim=ax.get_ylim()\n",
    "        going = True\n",
    "\n",
    "        gos = np.array([0]+s.gos)\n",
    "        stops = np.array(s.stops)\n",
    "\n",
    "        if max(s.stops) > max(s.gos):\n",
    "            gos = np.concatenate([gos,[w.timestep]])\n",
    "        else:\n",
    "            stops = np.concatenate([stops,[w.timestep]]) \n",
    "\n",
    "        gos = gos/TIMESTEPS_PER_SECOND\n",
    "        stops = stops/TIMESTEPS_PER_SECOND\n",
    "\n",
    "        c = np.empty((len(gos)+len(stops),))\n",
    "        c[0::2] = gos\n",
    "        c[1::2] = stops\n",
    "        for i in range(len(c)-1):\n",
    "            color=\"tab:green\" if going else \"tab:red\"\n",
    "            ax.fill_between(x=[c[i],c[i+1]],y1=[ylim[0],ylim[0]],y2=[ylim[1],ylim[1]],color=color,alpha=0.15)\n",
    "            going = not going\n",
    "\n",
    "    for ax in axes[:-1]:\n",
    "        ax.set_xticks([])\n",
    "\n",
    "    axes[-1].set_xlabel(\"t (seconds)\")\n",
    "    fig.suptitle(direction_name + \" Traffic\",y=1.05,fontsize=\"x-large\")\n",
    "    savefig(join(traffic_dirname,f\"{direction_name}_traffic.png\"))"
   ]
  },
  {
   "cell_type": "markdown",
   "metadata": {},
   "source": [
    "## Metrics"
   ]
  },
  {
   "cell_type": "code",
   "execution_count": null,
   "metadata": {},
   "outputs": [],
   "source": [
    "metrics = pd.DataFrame(data=cum_nums.keys(),columns=[\"Direction\"])"
   ]
  },
  {
   "cell_type": "markdown",
   "metadata": {},
   "source": [
    "### Average Queue Length"
   ]
  },
  {
   "cell_type": "code",
   "execution_count": null,
   "metadata": {},
   "outputs": [],
   "source": [
    "avgs = []\n",
    "for direction_name, nums in cum_nums.items():\n",
    "    n = np.array(nums)\n",
    "    avgs.append(np.sum(n)/len(n[0]))\n",
    "metrics[\"Average Queue Length\"] = avgs"
   ]
  },
  {
   "cell_type": "code",
   "execution_count": null,
   "metadata": {},
   "outputs": [],
   "source": [
    "metrics"
   ]
  },
  {
   "cell_type": "markdown",
   "metadata": {},
   "source": [
    "### Average Num Cars Exiting"
   ]
  },
  {
   "cell_type": "code",
   "execution_count": null,
   "metadata": {},
   "outputs": [],
   "source": [
    "metrics[\"Average Cars Exiting Per Second\"] = np.array([num_ew_bs+num_ew_ts,num_we_bs+num_we_ts,num_ns,num_sn])/runtime*TIMESTEPS_PER_SECOND\n",
    "metrics"
   ]
  },
  {
   "cell_type": "code",
   "execution_count": null,
   "metadata": {},
   "outputs": [],
   "source": [
    "np.array(list(cum_nums.values())[0]).shape"
   ]
  },
  {
   "cell_type": "code",
   "execution_count": null,
   "metadata": {},
   "outputs": [],
   "source": [
    "np.sum(np.array(list(cum_nums.values())[3]),axis=0)"
   ]
  },
  {
   "cell_type": "code",
   "execution_count": null,
   "metadata": {},
   "outputs": [],
   "source": [
    "for i in range(4):\n",
    "    print(list(cum_nums.keys())[i], np.max(np.sum(np.array(list(cum_nums.values())[i]),axis=0)))"
   ]
  },
  {
   "cell_type": "code",
   "execution_count": null,
   "metadata": {},
   "outputs": [],
   "source": [
    "i = 0\n",
    "for i in range(4):\n",
    "    t = np.arange(runtime)/TIMESTEPS_PER_SECOND\n",
    "    in_lane = 100*np.sum(np.array(list(cum_nums.values())[i]),axis=0)/capacities[i]\n",
    "    plt.plot(t,in_lane, label=list(cum_nums.keys())[i])\n",
    "    xlims = plt.xlim()\n",
    "    plt.hlines(90,*plt.xlim(),alpha=0.5,color=\"tab:red\",linestyles=\"dashed\")\n",
    "    # plt.fill_between(t,90,in_lane,where=(in_lane > 90),alpha=0.25,color=\"tab:red\")\n",
    "    plt.xlim(*xlims)\n",
    "plt.ylabel(\"% Capacity\")\n",
    "plt.xlabel(\"t (seconds)\")\n",
    "plt.legend(ncols=4,loc=\"lower center\")\n",
    "plt.title(\"Directional Congestion (Equal)\")\n",
    "plt.xlim(0,600)\n",
    "savefig(join(traffic_dirname,\"directional_congestion.png\"))"
   ]
  },
  {
   "cell_type": "code",
   "execution_count": null,
   "metadata": {},
   "outputs": [],
   "source": [
    "time_above_capacity = []\n",
    "for (direction_name, nums), capacity in zip(cum_nums.items(),capacities):\n",
    "    n = np.sum(np.array(nums),axis=0)\n",
    "    above_90 = np.where(n > 0.9 * capacity)\n",
    "    time_above_capacity.append(len(above_90[0])/runtime)\n",
    "metrics[\"Congestion Index\"] = time_above_capacity\n",
    "metrics"
   ]
  },
  {
   "cell_type": "markdown",
   "metadata": {},
   "source": [
    "### Flow Imbalance"
   ]
  },
  {
   "cell_type": "code",
   "execution_count": null,
   "metadata": {},
   "outputs": [],
   "source": [
    "metrics[\"Flow Imbalance\"] = [(num_ew_bs+num_ew_ts+num_we_bs+num_we_ts - (num_ns+num_sn)) / np.sum([num_ew_bs,num_ew_ts,num_we_bs,num_we_ts,num_ns,num_sn])] * len(metrics)"
   ]
  },
  {
   "cell_type": "code",
   "execution_count": null,
   "metadata": {},
   "outputs": [],
   "source": [
    "metrics"
   ]
  },
  {
   "cell_type": "code",
   "execution_count": null,
   "metadata": {},
   "outputs": [],
   "source": [
    "for c in metrics.columns:\n",
    "    try:\n",
    "        metrics[c] = np.round(metrics[c],3)\n",
    "    except:\n",
    "        pass\n",
    "\n",
    "metrics.to_csv(out(join(traffic_dirname,\"metrics.csv\")),index=None)"
   ]
  },
  {
   "cell_type": "code",
   "execution_count": null,
   "metadata": {},
   "outputs": [],
   "source": []
  }
 ],
 "metadata": {
  "kernelspec": {
   "display_name": ".venv",
   "language": "python",
   "name": "python3"
  },
  "language_info": {
   "codemirror_mode": {
    "name": "ipython",
    "version": 3
   },
   "file_extension": ".py",
   "mimetype": "text/x-python",
   "name": "python",
   "nbconvert_exporter": "python",
   "pygments_lexer": "ipython3",
   "version": "3.12.0"
  }
 },
 "nbformat": 4,
 "nbformat_minor": 2
}

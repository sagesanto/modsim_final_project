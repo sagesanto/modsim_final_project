{
 "cells": [
  {
   "cell_type": "code",
   "execution_count": null,
   "metadata": {},
   "outputs": [],
   "source": [
    "import sys, os\n",
    "from os.path import join, dirname, abspath\n",
    "import matplotlib.pyplot as plt\n",
    "from matplotlib.pyplot import Figure, Axes\n",
    "import numpy as np\n",
    "import networkx as nx\n",
    "import matplotlib.animation as animation\n",
    "from mpl_toolkits.axes_grid1 import make_axes_locatable\n",
    "from directions import *\n",
    "from string import ascii_uppercase\n",
    "plt.rcParams.update({\n",
    "    \"text.usetex\": False,\n",
    "    \"ytick.minor.visible\":False,\n",
    "    \"xtick.minor.visible\":False,\n",
    "    'xtick.direction': \"in\",\n",
    "    'ytick.direction': \"in\"\n",
    "})\n",
    "\n",
    "outdir = \"out/int_1_2_desynced\"\n",
    "os.makedirs(outdir,exist_ok=True)\n",
    "def out(fname): return join(outdir,fname)\n",
    "def savefig(plot_name): \n",
    "    plt.savefig(out(plot_name),bbox_inches=\"tight\",dpi=250)\n",
    "    \n",
    "import pandas as pd\n",
    "from numpy.linalg import matrix_power, eig\n",
    "\n",
    "def arr_to_latex(M):\n",
    "    return '$$\\n' + r'\\begin{bmatrix}' + '\\n' + (r'\\\\' + '\\n').join('&'.join(str(x) for x in row) for row in M) + '\\n' + r'\\end{bmatrix}' + '\\n' +'$$'\n",
    "\n",
    "def vec_to_latex(x,round=3):\n",
    "    return '$$\\n' + r'\\begin{bmatrix}' + '\\n' + (r' \\\\ ').join(str(np.round(v,round)) for v in x) + '\\n' + r'\\end{bmatrix}' + '\\n' +'$$'\n",
    "\n",
    "from car import Car\n",
    "from tiles import Road, Exit, Onramp\n",
    "from world import World\n",
    "from traffic_signals import Stoplight"
   ]
  },
  {
   "cell_type": "code",
   "execution_count": null,
   "metadata": {},
   "outputs": [],
   "source": [
    "def plus_tile(top,right,left,bottom,cx,cy):\n",
    "    road_tiles = []\n",
    "\n",
    "    bottom_tile = bottom(4+cx,0+cy,(N+E)/2)\n",
    "    road_tiles.append(bottom_tile)\n",
    "    road_tiles.append(Road(4+cx,1+cy,N))\n",
    "    road_tiles.append(Road(4+cx,2+cy,N))\n",
    "    s1_tile = Road(4+cx,3+cy,N)\n",
    "    road_tiles.append(s1_tile)\n",
    "    center = Road(4+cx,4+cy,(N+E)/2)\n",
    "    road_tiles.append(center)\n",
    "    road_tiles.append(Road(4+cx,5+cy,N))\n",
    "    road_tiles.append(Road(4+cx,6+cy,N))\n",
    "    road_tiles.append(Road(4+cx,7+cy,N))\n",
    "    \n",
    "    top_tile = top(4+cx,8+cy,(N+E)/2)\n",
    "    road_tiles.append(top_tile)\n",
    "\n",
    "    left_tile = left(0+cx,4+cy,(N+E)/2)\n",
    "    road_tiles.append(left_tile)\n",
    "    road_tiles.append(Road(1+cx,4+cy,E))\n",
    "    road_tiles.append(Road(2+cx,4+cy,E))\n",
    "    s2_tile = Road(3+cx,4+cy,E)\n",
    "    road_tiles.append(s2_tile)\n",
    "    road_tiles.append(Road(5+cx,4+cy,E))\n",
    "    road_tiles.append(Road(6+cx,4+cy,E))\n",
    "    road_tiles.append(Road(7+cx,4+cy,E))\n",
    "    right_tile = right(8+cx,4+cy,(N+E)/2)\n",
    "    road_tiles.append(right_tile)\n",
    "    \n",
    "    return road_tiles, [top_tile,right_tile,left_tile,bottom_tile]"
   ]
  },
  {
   "cell_type": "code",
   "execution_count": null,
   "metadata": {},
   "outputs": [],
   "source": [
    "p1,[e1t,_,o1b,o1l] = plus_tile(Exit,Road,Onramp,Onramp,0,0)\n",
    "p2,[e2t,e2r,_,o2l] = plus_tile(Exit,Exit,Road,Onramp,9,0)"
   ]
  },
  {
   "cell_type": "code",
   "execution_count": null,
   "metadata": {},
   "outputs": [],
   "source": [
    "w=World(p1+p2,cars=[])\n",
    "w.draw(markersize=10)"
   ]
  },
  {
   "cell_type": "code",
   "execution_count": null,
   "metadata": {},
   "outputs": [],
   "source": [
    "for cx,cy in zip([0,9],[0,0]):\n",
    "    s = Stoplight(tile=w.tiles[4+cx,3+cy],direction=4,offset=cx,period=20)\n",
    "    s2 = Stoplight(tile=w.tiles[3+cx,4+cy],direction=6,offset=10+cx,period=20)\n",
    "    w.add_stoplight(s)\n",
    "    w.add_stoplight(s2)"
   ]
  },
  {
   "cell_type": "code",
   "execution_count": null,
   "metadata": {},
   "outputs": [],
   "source": [
    "w.draw(markersize=10)"
   ]
  },
  {
   "cell_type": "code",
   "execution_count": null,
   "metadata": {},
   "outputs": [],
   "source": [
    "w.run(200,draw=True,outpath=out(\"intersection.gif\"),markersize=10)"
   ]
  },
  {
   "cell_type": "code",
   "execution_count": null,
   "metadata": {},
   "outputs": [],
   "source": [
    "fig, ax = plt.subplots()\n",
    "cumulative = np.zeros((w.max_y+1,w.max_x+1))\n",
    "\n",
    "c = np.zeros(len(w._tiles))\n",
    "# c[onramp.index] = 1\n",
    "# mkov_locs = [np.array(c, copy=True)]\n",
    "\n",
    "def update(frame):\n",
    "    global cumulative\n",
    "    ax.cla()\n",
    "    car_loc = w.car_info_packets[frame]\n",
    "    car_map = np.zeros((w.max_y+1,w.max_x+1))\n",
    "    car_locs = np.zeros((w.max_y+1,w.max_x+1))\n",
    "    car_map[car_loc[:,2],car_loc[:,1]] = car_loc[:,0]\n",
    "    car_locs[car_loc[:,2],car_loc[:,1]] = 1 \n",
    "    cumulative += car_locs\n",
    "    # mkov_locs.append(w.markov.T@mkov_locs[-1])\n",
    "    ax.imshow(car_map,origin=\"lower\",cmap=\"inferno\")\n",
    "ani = animation.FuncAnimation(fig,update,frames=len(w.car_info_packets),interval=100)\n",
    "ani.save(filename=out(\"intersection_car_heatmap.gif\"), writer=\"pillow\",dpi=150)"
   ]
  },
  {
   "cell_type": "code",
   "execution_count": null,
   "metadata": {},
   "outputs": [],
   "source": [
    "tiles_of_interest = np.array([[5,4],[6,4],[7,4],[8,4],[9,4],[10,4],[11,4],[12,4]])\n",
    "w.tiles[tiles_of_interest]"
   ]
  },
  {
   "cell_type": "code",
   "execution_count": null,
   "metadata": {},
   "outputs": [],
   "source": [
    "nums = []\n",
    "ts = []\n",
    "for t, packet in enumerate(w.car_info_packets):\n",
    "    car_locs = np.zeros((w.max_y+1,w.max_x+1))\n",
    "    car_locs[packet[:,2],packet[:,1]] = 1\n",
    "    num_cars = np.sum(car_locs[tiles_of_interest[:,1],tiles_of_interest[:,0]])\n",
    "    nums.append(num_cars)\n",
    "    ts.append(t)"
   ]
  },
  {
   "cell_type": "code",
   "execution_count": null,
   "metadata": {},
   "outputs": [],
   "source": [
    "plt.plot(ts,nums)\n",
    "plt.title(\"Traffic in Intermediate Stretch\")\n",
    "plt.xlabel(\"t\")\n",
    "plt.ylabel(\"Cars in stretch\")\n",
    "ylim=plt.ylim()\n",
    "going = True\n",
    "s = w.signaller.stoplights[0]\n",
    "\n",
    "gos = np.array([0]+s.gos)\n",
    "stops = np.array(s.stops)\n",
    "\n",
    "if max(s.stops) > max(s.gos):\n",
    "    gos = np.concatenate([gos,[w.timestep]])\n",
    "else:\n",
    "    stops = np.concatenate([stops,[w.timestep]])\n",
    "\n",
    "c = np.empty((len(gos)+len(stops),))\n",
    "c[0::2] = gos\n",
    "c[1::2] = stops\n",
    "for i in range(len(c)-1):\n",
    "    color=\"tab:green\" if going else \"tab:red\"\n",
    "    print(c[i],c[i+1],color)\n",
    "    plt.fill_between(x=[c[i],c[i+1]],y1=[ylim[0],ylim[0]],y2=[ylim[1],ylim[1]],color=color,alpha=0.15)\n",
    "    going = not going\n",
    "savefig(\"traffic_in_stretch.png\")"
   ]
  },
  {
   "cell_type": "code",
   "execution_count": null,
   "metadata": {},
   "outputs": [],
   "source": [
    "w.signaller.stoplights"
   ]
  },
  {
   "cell_type": "code",
   "execution_count": null,
   "metadata": {},
   "outputs": [],
   "source": [
    "going = True\n",
    "s = w.signaller.stoplights[0]\n",
    "c = np.empty((len(s.gos)+ len(s.stops)-1,))\n",
    "c[0::2] = sorted(s.gos)\n",
    "c[1::2] = sorted(s.stops[1:])\n",
    "for i in range(len(c)-1):\n",
    "    color=\"tab:green\" if going else \"tab:red\"\n",
    "    print(c[i],c[i+1],color)\n",
    "    plt.fill_between(x=[c[i],c[i+1]],y1=[0,0],y2=[1,1],color=color,alpha=0.5)\n",
    "    going = not going\n",
    "# fill=False\n",
    "# for i in range(len(s.gos)-1):\n",
    "#     if fill:\n",
    "#         plt.fill_between(x=[s.gos[i],s.gos[i+1]],y1=[0,0],y2=[1,1],color=\"tab:green\",alpha=0.5)\n",
    "#     fill = not fill"
   ]
  },
  {
   "cell_type": "code",
   "execution_count": null,
   "metadata": {},
   "outputs": [],
   "source": [
    "print(c)"
   ]
  },
  {
   "cell_type": "code",
   "execution_count": null,
   "metadata": {},
   "outputs": [],
   "source": [
    "t= np.arange(50)\n",
    "lines = {}\n",
    "for s in w.signaller.stoplights:\n",
    "    points_south = s.direction==4\n",
    "    f = np.vectorize(s.update_func)\n",
    "    l = plt.plot(t,f(t),c=\"tab:blue\" if points_south else \"tab:orange\",linestyle=\"dashed\" if points_south else \"dotted\")\n",
    "    lines[s.direction] = l[0]\n",
    "plt.yticks([0,1],[\"Stop\",\"Go\"])\n",
    "plt.xlabel(\"t\")\n",
    "plt.title(\"Stoplight States\")\n",
    "plt.legend(handles=[lines[4],lines[6]],labels=[\"South\",\"East\"])\n",
    "savefig(\"signal_states.png\")"
   ]
  },
  {
   "cell_type": "code",
   "execution_count": null,
   "metadata": {},
   "outputs": [],
   "source": [
    "|"
   ]
  }
 ],
 "metadata": {
  "kernelspec": {
   "display_name": ".venv",
   "language": "python",
   "name": "python3"
  },
  "language_info": {
   "codemirror_mode": {
    "name": "ipython",
    "version": 3
   },
   "file_extension": ".py",
   "mimetype": "text/x-python",
   "name": "python",
   "nbconvert_exporter": "python",
   "pygments_lexer": "ipython3",
   "version": "3.12.0"
  }
 },
 "nbformat": 4,
 "nbformat_minor": 2
}

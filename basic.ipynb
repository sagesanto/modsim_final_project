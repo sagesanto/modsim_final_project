{
 "cells": [
  {
   "cell_type": "code",
   "execution_count": 1,
   "metadata": {},
   "outputs": [],
   "source": [
    "import sys, os\n",
    "from os.path import join, dirname, abspath\n",
    "import matplotlib.pyplot as plt\n",
    "from matplotlib.pyplot import Figure, Axes\n",
    "import numpy as np\n",
    "import networkx as nx\n",
    "import matplotlib.animation as animation\n",
    "from string import ascii_uppercase\n",
    "plt.rcParams.update({\n",
    "    \"text.usetex\": False,\n",
    "    \"ytick.minor.visible\":True,\n",
    "    \"xtick.minor.visible\":True,\n",
    "    'xtick.direction': \"in\",\n",
    "    'ytick.direction': \"in\"\n",
    "})\n",
    "outdir = \"out\"\n",
    "os.makedirs(outdir,exist_ok=True)\n",
    "def out(fname): return join(outdir,fname)\n",
    "def savefig(plot_name): \n",
    "    plt.savefig(out(plot_name),bbox_inches=\"tight\",dpi=250)\n",
    "import pandas as pd\n",
    "from numpy.linalg import matrix_power, eig\n",
    "\n",
    "def arr_to_latex(M):\n",
    "    return '$$\\n' + r'\\begin{bmatrix}' + '\\n' + (r'\\\\' + '\\n').join('&'.join(str(x) for x in row) for row in M) + '\\n' + r'\\end{bmatrix}' + '\\n' +'$$'\n",
    "\n",
    "def vec_to_latex(x,round=3):\n",
    "    return '$$\\n' + r'\\begin{bmatrix}' + '\\n' + (r' \\\\ ').join(str(np.round(v,round)) for v in x) + '\\n' + r'\\end{bmatrix}' + '\\n' +'$$'"
   ]
  },
  {
   "cell_type": "code",
   "execution_count": 2,
   "metadata": {},
   "outputs": [],
   "source": [
    "from car import Car\n",
    "from tiles import Road, Exit"
   ]
  },
  {
   "cell_type": "code",
   "execution_count": 4,
   "metadata": {},
   "outputs": [],
   "source": [
    "GRID_WIDTH = 5"
   ]
  },
  {
   "cell_type": "code",
   "execution_count": 5,
   "metadata": {},
   "outputs": [],
   "source": [
    "road_tiles = []\n",
    "for i in range(0,GRID_WIDTH):\n",
    "    for j in range(0,GRID_WIDTH):\n",
    "        road_tiles.append(Road(i,j,np.ones(9)/9))"
   ]
  },
  {
   "cell_type": "code",
   "execution_count": null,
   "metadata": {},
   "outputs": [],
   "source": [
    "fig, ax = plt.subplots()\n",
    "\n",
    "for r in road_tiles:\n",
    "    r.plot(ax)\n",
    "shift_amount = 0.5\n",
    "\n",
    "print(ax.get_xticks())\n",
    "\n",
    "xticks = np.arange(GRID_WIDTH) + shift_amount\n",
    "yticks = np.arange(GRID_WIDTH) + shift_amount\n",
    "\n",
    "ax.set_xticks(xticks)\n",
    "ax.set_yticks(yticks)\n",
    "\n",
    "ax.set_xticklabels([])\n",
    "ax.set_yticklabels([])\n",
    "ax.set_aspect('equal')\n",
    "\n",
    "# Enable the grid\n",
    "ax.grid(which=\"major\")\n"
   ]
  },
  {
   "cell_type": "code",
   "execution_count": null,
   "metadata": {},
   "outputs": [],
   "source": [
    "# p_directions goes clockwise:\n",
    "    #[ p(N)    0\n",
    "    #  p(NE)   1\n",
    "    #  p(E)    2\n",
    "    #  p(SE)   3\n",
    "    #  p(S)    4\n",
    "    #  p(SW)   5\n",
    "    #  p(W)    6\n",
    "    #  p(NW)   7\n",
    "    #  p(stay) 8 ]\n",
    "# must sum to 1\n",
    "NORTH = np.array([1,0,0,0,0,0,0,0,0])\n",
    "NORTHEAST = np.array([0,1,0,0,0,0,0,0,0])\n",
    "EAST = np.array([0,0,1,0,0,0,0,0,0])\n",
    "SOUTHEAST = np.array([0,0,0,1,0,0,0,0,0])\n",
    "SOUTH = np.array([0,0,0,0,1,0,0,0,0])\n",
    "SOUTHWEST = np.array([0,0,0,0,0,1,0,0,0])\n",
    "WEST = np.array([0,0,0,0,0,0,1,0,0])\n",
    "NORTHWEST = np.array([0,0,0,0,0,0,0,1,0])\n",
    "STAY = np.array([0,0,0,0,0,0,0,0,1])\n",
    "NORTH_NORTHEAST = 0.75*NORTH + 0.25*NORTHEAST\n",
    "NORTH_NORTHWEST = 0.75*NORTH + 0.25*NORTHWEST\n",
    "NORTH_NORTHEAST_NORTHWEST = 0.75*NORTH + 0.125*NORTHEAST + 0.125*NORTHWEST\n",
    "EAST_NORTHEAST = 0.75*EAST + 0.25*NORTHEAST\n",
    "EAST_SOUTHEAST = 0.75*EAST + 0.25*SOUTHEAST\n",
    "EAST_NORTHEAST_SOUTHEAST = 0.75*EAST + 0.125*NORTHEAST + 0.125*SOUTHEAST\n",
    "SOUTH_SOUTHEAST = 0.75*SOUTH + 0.25*SOUTHEAST\n",
    "SOUTH_SOUTHWEST = 0.75*SOUTH + 0.25*SOUTHWEST\n",
    "SOUTH_SOUTHEAST_SOUTHWEST = 0.75*SOUTH + 0.125*SOUTHEAST + 0.125*SOUTHWEST\n",
    "\n",
    "directions = [NORTH, NORTHEAST, EAST, SOUTHEAST, SOUTH, SOUTHWEST, WEST, NORTHWEST, STAY,\n",
    "              NORTH_NORTHEAST, NORTH_NORTHWEST, NORTH_NORTHEAST_NORTHWEST, EAST_NORTHEAST, EAST_SOUTHEAST, EAST_NORTHEAST_SOUTHEAST,\n",
    "              SOUTH_SOUTHEAST, SOUTH_SOUTHWEST, SOUTH_SOUTHEAST_SOUTHWEST]\n",
    "direction_names = [\"NORTH\", \"NORTHEAST\", \"EAST\", \"SOUTHEAST\", \"SOUTH\", \"SOUTHWEST\", \"WEST\", \"NORTHWEST\", \"STAY\",\"NORTH-NORTHEAST\", \"NORTH-NORTHWEST\", \"NORTH-NORTHEAST-NORTHWEST\", \"EAST-NORTHEAST\", \"EAST-SOUTHEAST\", \"EAST-NORTHEAST-SOUTHEAST\",\"SOUTH-SOUTHEAST\", \"SOUTH-SOUTHWEST\", \"SOUTH-SOUTHEAST-SOUTHWEST\"]"
   ]
  },
  {
   "cell_type": "code",
   "execution_count": null,
   "metadata": {},
   "outputs": [],
   "source": [
    "for dir, name in zip(directions,direction_names):\n",
    "    fig, ax = plt.subplots()\n",
    "    r = Road(1,1,dir)\n",
    "    r.plot(ax)\n",
    "    ax.set_xticks([])\n",
    "    ax.set_yticks([])\n",
    "    ax.set_aspect('equal')\n",
    "    ax.set_title(name)"
   ]
  }
 ],
 "metadata": {
  "kernelspec": {
   "display_name": ".venv",
   "language": "python",
   "name": "python3"
  },
  "language_info": {
   "codemirror_mode": {
    "name": "ipython",
    "version": 3
   },
   "file_extension": ".py",
   "mimetype": "text/x-python",
   "name": "python",
   "nbconvert_exporter": "python",
   "pygments_lexer": "ipython3",
   "version": "3.12.0"
  }
 },
 "nbformat": 4,
 "nbformat_minor": 2
}
